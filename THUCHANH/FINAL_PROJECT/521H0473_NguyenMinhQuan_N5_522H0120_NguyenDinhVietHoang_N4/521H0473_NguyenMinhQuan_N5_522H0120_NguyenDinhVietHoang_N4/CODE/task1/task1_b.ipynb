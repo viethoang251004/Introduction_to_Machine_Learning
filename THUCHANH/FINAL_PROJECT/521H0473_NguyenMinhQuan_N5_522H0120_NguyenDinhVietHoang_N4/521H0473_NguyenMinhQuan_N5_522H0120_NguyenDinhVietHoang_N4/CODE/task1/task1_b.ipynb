{
 "cells": [
  {
   "cell_type": "code",
   "execution_count": 11,
   "metadata": {},
   "outputs": [],
   "source": [
    "from sklearn.model_selection import train_test_split\n",
    "from sklearn.preprocessing import StandardScaler, LabelEncoder\n",
    "import pandas as pd\n",
    "import numpy as np"
   ]
  },
  {
   "cell_type": "code",
   "execution_count": 12,
   "metadata": {},
   "outputs": [],
   "source": [
    "# Load dataset\n",
    "iris = pd.read_csv('iris.data')\n",
    "X = iris.iloc[:, :-1]  # Using iloc for indexing\n",
    "y = iris.iloc[:, -1]"
   ]
  },
  {
   "cell_type": "code",
   "execution_count": 13,
   "metadata": {},
   "outputs": [],
   "source": [
    "# Encode labels\n",
    "label_encoder = LabelEncoder()\n",
    "y_encoded = label_encoder.fit_transform(y)"
   ]
  },
  {
   "cell_type": "code",
   "execution_count": 14,
   "metadata": {},
   "outputs": [],
   "source": [
    "# Standardize features\n",
    "scaler = StandardScaler()\n",
    "X_scaled = scaler.fit_transform(X)"
   ]
  },
  {
   "cell_type": "code",
   "execution_count": 15,
   "metadata": {},
   "outputs": [],
   "source": [
    "# Split dataset into train and test sets\n",
    "X_train, X_test, y_train, y_test = train_test_split(X_scaled, y_encoded, test_size=0.2, random_state=42)"
   ]
  },
  {
   "cell_type": "code",
   "execution_count": 16,
   "metadata": {},
   "outputs": [],
   "source": [
    "# Define neural network architecture\n",
    "class NeuralNetwork:\n",
    "    def __init__(self):\n",
    "        self.input_size = 4\n",
    "        self.hidden_size = 10\n",
    "        self.output_size = 3\n",
    "        self.weights_input_hidden = np.random.randn(self.input_size, self.hidden_size)\n",
    "        self.weights_hidden_output = np.random.randn(self.hidden_size, self.output_size)\n",
    "        self.learning_rate = 0.1\n",
    "    \n",
    "    def sigmoid(self, x):\n",
    "        return 1 / (1 + np.exp(-x))\n",
    "    \n",
    "    def sigmoid_derivative(self, x):\n",
    "        return x * (1 - x)\n",
    "    \n",
    "    def feedforward(self, X):\n",
    "        self.hidden_layer_input = np.dot(X, self.weights_input_hidden)\n",
    "        self.hidden_layer_output = self.sigmoid(self.hidden_layer_input)\n",
    "        self.output_layer_input = np.dot(self.hidden_layer_output, self.weights_hidden_output)\n",
    "        self.output = self.sigmoid(self.output_layer_input)\n",
    "        return self.output\n",
    "    \n",
    "    def backpropagation(self, X, y):\n",
    "        # Feedforward\n",
    "        self.output = self.feedforward(X)\n",
    "        \n",
    "        # Compute error\n",
    "        self.error = y - self.output\n",
    "        \n",
    "        # Compute gradients\n",
    "        delta_output = self.error * self.sigmoid_derivative(self.output)\n",
    "        delta_hidden = np.dot(delta_output, self.weights_hidden_output.T) * self.sigmoid_derivative(self.hidden_layer_output)\n",
    "        \n",
    "        # Update weights\n",
    "        self.weights_hidden_output += np.dot(self.hidden_layer_output.T, delta_output) * self.learning_rate\n",
    "        self.weights_input_hidden += np.dot(X.T, delta_hidden) * self.learning_rate\n",
    "        \n",
    "    def train(self, X, y, epochs):\n",
    "        for epoch in range(epochs):\n",
    "            self.backpropagation(X, y)\n",
    "            if epoch % 100 == 0:\n",
    "                loss = np.mean(np.square(y - nn.feedforward(X)))\n",
    "                print(f\"Epoch {epoch}: Loss = {loss:.4f}\")\n"
   ]
  },
  {
   "cell_type": "code",
   "execution_count": 17,
   "metadata": {},
   "outputs": [],
   "source": [
    "# Initialize neural network\n",
    "nn = NeuralNetwork()"
   ]
  },
  {
   "cell_type": "code",
   "execution_count": 18,
   "metadata": {},
   "outputs": [
    {
     "name": "stdout",
     "output_type": "stream",
     "text": [
      "Epoch 0: Loss = 0.3122\n",
      "Epoch 100: Loss = 0.0468\n",
      "Epoch 200: Loss = 0.0312\n",
      "Epoch 300: Loss = 0.0206\n",
      "Epoch 400: Loss = 0.0150\n",
      "Epoch 500: Loss = 0.0102\n",
      "Epoch 600: Loss = 0.0077\n",
      "Epoch 700: Loss = 0.0063\n",
      "Epoch 800: Loss = 0.0054\n",
      "Epoch 900: Loss = 0.0048\n"
     ]
    }
   ],
   "source": [
    "# Train neural network\n",
    "nn.train(X_train, np.eye(3)[y_train], epochs=1000)  # Using one-hot encoded y_train"
   ]
  },
  {
   "cell_type": "code",
   "execution_count": 19,
   "metadata": {},
   "outputs": [
    {
     "name": "stdout",
     "output_type": "stream",
     "text": [
      "Accuracy: 0.90\n"
     ]
    }
   ],
   "source": [
    "# Test neural network\n",
    "predictions = np.argmax(nn.feedforward(X_test), axis=1)\n",
    "accuracy = np.mean(predictions == y_test)\n",
    "print(f\"Accuracy: {accuracy:.2f}\")"
   ]
  },
  {
   "cell_type": "code",
   "execution_count": 21,
   "metadata": {},
   "outputs": [
    {
     "name": "stdout",
     "output_type": "stream",
     "text": [
      "Accuracy: 1.00\n"
     ]
    }
   ],
   "source": [
    "# Train neural network\n",
    "predictions = np.argmax(nn.feedforward(X_train), axis=1)\n",
    "accuracy = np.mean(predictions == y_train)\n",
    "print(f\"Accuracy: {accuracy:.2f}\")"
   ]
  }
 ],
 "metadata": {
  "kernelspec": {
   "display_name": "Python 3",
   "language": "python",
   "name": "python3"
  },
  "language_info": {
   "codemirror_mode": {
    "name": "ipython",
    "version": 3
   },
   "file_extension": ".py",
   "mimetype": "text/x-python",
   "name": "python",
   "nbconvert_exporter": "python",
   "pygments_lexer": "ipython3",
   "version": "3.11.0"
  }
 },
 "nbformat": 4,
 "nbformat_minor": 2
}
