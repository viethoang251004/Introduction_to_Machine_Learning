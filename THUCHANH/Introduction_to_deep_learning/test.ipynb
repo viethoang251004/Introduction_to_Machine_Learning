{
  "nbformat": 4,
  "nbformat_minor": 0,
  "metadata": {
    "colab": {
      "provenance": []
    },
    "kernelspec": {
      "name": "python3",
      "display_name": "Python 3"
    },
    "language_info": {
      "name": "python"
    }
  },
  "cells": [
    {
      "cell_type": "code",
      "execution_count": null,
      "metadata": {
        "id": "COx3weNtUWUy"
      },
      "outputs": [],
      "source": [
        "import numpy as np\n",
        "import pandas as pd\n",
        "from sklearn.model_selection import train_test_split\n",
        "from sklearn.preprocessing import StandardScaler\n",
        "from sklearn.ensemble import RandomForestClassifier\n",
        "from sklearn.svm import SVC\n",
        "from sklearn.linear_model import LogisticRegression\n",
        "from sklearn.tree import DecisionTreeClassifier\n",
        "from sklearn.metrics import accuracy_score, precision_score, recall_score, f1_score, roc_auc_score\n",
        "# Load your dataset\n",
        "# Assuming 'data' is a pandas DataFrame with the last column as the target variable\n",
        "X = data.iloc[:, :-1].values\n",
        "y = data.iloc[:, -1].values\n",
        "# Split the dataset\n",
        "X_train, X_test, y_train, y_test = train_test_split(X, y, test_size=0.2, random_state=42)\n",
        "# Standardize features for SVM and Logistic Regression\n",
        "scaler = StandardScaler()\n",
        "X_train_scaled = scaler.fit_transform(X_train)\n",
        "X_test_scaled = scaler.transform(X_test)\n",
        "# Initialize models\n",
        "rf = RandomForestClassifier(n_estimators=100, random_state=42)\n",
        "svm = SVC(probability=True, random_state=42)\n",
        "log_reg = LogisticRegression(random_state=42)\n",
        "dt = DecisionTreeClassifier(random_state=42)\n",
        "# Train models\n",
        "rf.fit(X_train, y_train)\n",
        "svm.fit(X_train_scaled, y_train)\n",
        "log_reg.fit(X_train_scaled, y_train)\n",
        "dt.fit(X_train, y_train)\n",
        "# Make predictions\n",
        "rf_pred = rf.predict(X_test)\n",
        "svm_pred = svm.predict(X_test_scaled)\n",
        "log_reg_pred = log_reg.predict(X_test_scaled)\n",
        "dt_pred = dt.predict(X_test)\n",
        "# Evaluate models\n",
        "models = {\n",
        "    'Random Forest': rf_pred,\n",
        "    'SVM': svm_pred,\n",
        "    'Logistic Regression': log_reg_pred,\n",
        "    'Decision Tree': dt_pred\n",
        "}\n",
        "\n",
        "for name, pred in models.items():\n",
        "    print(f\"{name}:\")\n",
        "    print(f\"Accuracy: {accuracy_score(y_test, pred):.2f}\")\n",
        "    print(f\"Precision: {precision_score(y_test, pred, average='weighted'):.2f}\")\n",
        "    print(f\"Recall: {recall_score(y_test, pred, average='weighted'):.2f}\")\n",
        "    print(f\"F1 Score: {f1_score(y_test, pred, average='weighted'):.2f}\")\n",
        "    print(f\"ROC-AUC: {roc_auc_score(y_test, pred):.2f}\")\n",
        "    print()"
      ]
    }
  ]
}