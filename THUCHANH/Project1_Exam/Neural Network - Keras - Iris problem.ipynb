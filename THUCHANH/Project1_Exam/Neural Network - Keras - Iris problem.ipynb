{
 "cells": [
  {
   "cell_type": "code",
   "execution_count": 2,
   "metadata": {},
   "outputs": [],
   "source": [
    "#from tensorflow.keras import layers\n",
    "#from tensorflow.keras import models\n",
    "import numpy as np "
   ]
  },
  {
   "cell_type": "code",
   "execution_count": 3,
   "metadata": {},
   "outputs": [
    {
     "name": "stdout",
     "output_type": "stream",
     "text": [
      "(149, 5)\n"
     ]
    }
   ],
   "source": [
    "import pandas as pd\n",
    "dataframe = pd.read_csv(\"iris.data\")\n",
    "data = np.array(dataframe.values)\n",
    "print(data.shape)"
   ]
  },
  {
   "cell_type": "code",
   "execution_count": 4,
   "metadata": {},
   "outputs": [
    {
     "name": "stdout",
     "output_type": "stream",
     "text": [
      "(149, 4)\n",
      "(149,)\n"
     ]
    }
   ],
   "source": [
    "X = data[:,:-1]\n",
    "X = np.asarray(X.astype(np.float32))\n",
    "y = data[:,-1]\n",
    "print(X.shape)\n",
    "print(y.shape)"
   ]
  },
  {
   "cell_type": "code",
   "execution_count": 5,
   "metadata": {},
   "outputs": [
    {
     "name": "stdout",
     "output_type": "stream",
     "text": [
      "Counter({'Iris-versicolor': 50, 'Iris-virginica': 50, 'Iris-setosa': 49})\n"
     ]
    }
   ],
   "source": [
    "from collections import Counter\n",
    "counter = Counter()\n",
    "counter.update(y)\n",
    "print(counter)"
   ]
  },
  {
   "cell_type": "code",
   "execution_count": 6,
   "metadata": {},
   "outputs": [
    {
     "name": "stdout",
     "output_type": "stream",
     "text": [
      "[0 0 0 0 0 0 0 0 0 0 0 0 0 0 0 0 0 0 0 0 0 0 0 0 0 0 0 0 0 0 0 0 0 0 0 0 0\n",
      " 0 0 0 0 0 0 0 0 0 0 0 0 1 1 1 1 1 1 1 1 1 1 1 1 1 1 1 1 1 1 1 1 1 1 1 1 1\n",
      " 1 1 1 1 1 1 1 1 1 1 1 1 1 1 1 1 1 1 1 1 1 1 1 1 1 2 2 2 2 2 2 2 2 2 2 2 2\n",
      " 2 2 2 2 2 2 2 2 2 2 2 2 2 2 2 2 2 2 2 2 2 2 2 2 2 2 2 2 2 2 2 2 2 2 2 2 2\n",
      " 2]\n"
     ]
    }
   ],
   "source": [
    "from sklearn.preprocessing import LabelEncoder\n",
    "encoder = LabelEncoder()\n",
    "y = encoder.fit_transform(y)\n",
    "print(y)"
   ]
  },
  {
   "cell_type": "code",
   "execution_count": 7,
   "metadata": {},
   "outputs": [
    {
     "name": "stdout",
     "output_type": "stream",
     "text": [
      "Train:\n",
      "(104, 4)\n",
      "(104,)\n",
      "Test:\n",
      "(45, 4)\n",
      "(45,)\n"
     ]
    }
   ],
   "source": [
    "from sklearn.model_selection import train_test_split\n",
    "\n",
    "X_train, X_test, y_train, y_test = train_test_split(X, y, test_size=0.3, random_state=42)\n",
    "\n",
    "print('Train:')\n",
    "print(X_train.shape)\n",
    "print(y_train.shape)\n",
    "print('Test:')\n",
    "print(X_test.shape)\n",
    "print(y_test.shape)"
   ]
  },
  {
   "cell_type": "code",
   "execution_count": 8,
   "metadata": {},
   "outputs": [
    {
     "name": "stdout",
     "output_type": "stream",
     "text": [
      "[[5.8 2.7 3.9 1.2]\n",
      " [6.3 2.8 5.1 1.5]]\n"
     ]
    }
   ],
   "source": [
    "print(X_train[:2])"
   ]
  },
  {
   "cell_type": "code",
   "execution_count": 9,
   "metadata": {},
   "outputs": [],
   "source": [
    "from sklearn.linear_model import LogisticRegression "
   ]
  },
  {
   "cell_type": "code",
   "execution_count": 10,
   "metadata": {},
   "outputs": [
    {
     "data": {
      "text/html": [
       "<style>#sk-container-id-1 {color: black;}#sk-container-id-1 pre{padding: 0;}#sk-container-id-1 div.sk-toggleable {background-color: white;}#sk-container-id-1 label.sk-toggleable__label {cursor: pointer;display: block;width: 100%;margin-bottom: 0;padding: 0.3em;box-sizing: border-box;text-align: center;}#sk-container-id-1 label.sk-toggleable__label-arrow:before {content: \"▸\";float: left;margin-right: 0.25em;color: #696969;}#sk-container-id-1 label.sk-toggleable__label-arrow:hover:before {color: black;}#sk-container-id-1 div.sk-estimator:hover label.sk-toggleable__label-arrow:before {color: black;}#sk-container-id-1 div.sk-toggleable__content {max-height: 0;max-width: 0;overflow: hidden;text-align: left;background-color: #f0f8ff;}#sk-container-id-1 div.sk-toggleable__content pre {margin: 0.2em;color: black;border-radius: 0.25em;background-color: #f0f8ff;}#sk-container-id-1 input.sk-toggleable__control:checked~div.sk-toggleable__content {max-height: 200px;max-width: 100%;overflow: auto;}#sk-container-id-1 input.sk-toggleable__control:checked~label.sk-toggleable__label-arrow:before {content: \"▾\";}#sk-container-id-1 div.sk-estimator input.sk-toggleable__control:checked~label.sk-toggleable__label {background-color: #d4ebff;}#sk-container-id-1 div.sk-label input.sk-toggleable__control:checked~label.sk-toggleable__label {background-color: #d4ebff;}#sk-container-id-1 input.sk-hidden--visually {border: 0;clip: rect(1px 1px 1px 1px);clip: rect(1px, 1px, 1px, 1px);height: 1px;margin: -1px;overflow: hidden;padding: 0;position: absolute;width: 1px;}#sk-container-id-1 div.sk-estimator {font-family: monospace;background-color: #f0f8ff;border: 1px dotted black;border-radius: 0.25em;box-sizing: border-box;margin-bottom: 0.5em;}#sk-container-id-1 div.sk-estimator:hover {background-color: #d4ebff;}#sk-container-id-1 div.sk-parallel-item::after {content: \"\";width: 100%;border-bottom: 1px solid gray;flex-grow: 1;}#sk-container-id-1 div.sk-label:hover label.sk-toggleable__label {background-color: #d4ebff;}#sk-container-id-1 div.sk-serial::before {content: \"\";position: absolute;border-left: 1px solid gray;box-sizing: border-box;top: 0;bottom: 0;left: 50%;z-index: 0;}#sk-container-id-1 div.sk-serial {display: flex;flex-direction: column;align-items: center;background-color: white;padding-right: 0.2em;padding-left: 0.2em;position: relative;}#sk-container-id-1 div.sk-item {position: relative;z-index: 1;}#sk-container-id-1 div.sk-parallel {display: flex;align-items: stretch;justify-content: center;background-color: white;position: relative;}#sk-container-id-1 div.sk-item::before, #sk-container-id-1 div.sk-parallel-item::before {content: \"\";position: absolute;border-left: 1px solid gray;box-sizing: border-box;top: 0;bottom: 0;left: 50%;z-index: -1;}#sk-container-id-1 div.sk-parallel-item {display: flex;flex-direction: column;z-index: 1;position: relative;background-color: white;}#sk-container-id-1 div.sk-parallel-item:first-child::after {align-self: flex-end;width: 50%;}#sk-container-id-1 div.sk-parallel-item:last-child::after {align-self: flex-start;width: 50%;}#sk-container-id-1 div.sk-parallel-item:only-child::after {width: 0;}#sk-container-id-1 div.sk-dashed-wrapped {border: 1px dashed gray;margin: 0 0.4em 0.5em 0.4em;box-sizing: border-box;padding-bottom: 0.4em;background-color: white;}#sk-container-id-1 div.sk-label label {font-family: monospace;font-weight: bold;display: inline-block;line-height: 1.2em;}#sk-container-id-1 div.sk-label-container {text-align: center;}#sk-container-id-1 div.sk-container {/* jupyter's `normalize.less` sets `[hidden] { display: none; }` but bootstrap.min.css set `[hidden] { display: none !important; }` so we also need the `!important` here to be able to override the default hidden behavior on the sphinx rendered scikit-learn.org. See: https://github.com/scikit-learn/scikit-learn/issues/21755 */display: inline-block !important;position: relative;}#sk-container-id-1 div.sk-text-repr-fallback {display: none;}</style><div id=\"sk-container-id-1\" class=\"sk-top-container\"><div class=\"sk-text-repr-fallback\"><pre>LogisticRegression()</pre><b>In a Jupyter environment, please rerun this cell to show the HTML representation or trust the notebook. <br />On GitHub, the HTML representation is unable to render, please try loading this page with nbviewer.org.</b></div><div class=\"sk-container\" hidden><div class=\"sk-item\"><div class=\"sk-estimator sk-toggleable\"><input class=\"sk-toggleable__control sk-hidden--visually\" id=\"sk-estimator-id-1\" type=\"checkbox\" checked><label for=\"sk-estimator-id-1\" class=\"sk-toggleable__label sk-toggleable__label-arrow\">LogisticRegression</label><div class=\"sk-toggleable__content\"><pre>LogisticRegression()</pre></div></div></div></div></div>"
      ],
      "text/plain": [
       "LogisticRegression()"
      ]
     },
     "execution_count": 10,
     "metadata": {},
     "output_type": "execute_result"
    }
   ],
   "source": [
    "model = LogisticRegression()\n",
    "model.fit(X_train,y_train)\n"
   ]
  },
  {
   "cell_type": "code",
   "execution_count": 11,
   "metadata": {},
   "outputs": [
    {
     "name": "stdout",
     "output_type": "stream",
     "text": [
      "              precision    recall  f1-score   support\n",
      "\n",
      "           0       1.00      1.00      1.00        19\n",
      "           1       0.91      0.77      0.83        13\n",
      "           2       0.80      0.92      0.86        13\n",
      "\n",
      "    accuracy                           0.91        45\n",
      "   macro avg       0.90      0.90      0.90        45\n",
      "weighted avg       0.92      0.91      0.91        45\n",
      "\n"
     ]
    }
   ],
   "source": [
    "from sklearn.metrics import classification_report\n",
    "\n",
    "y_pred = model.predict(X_test)\n",
    "print(classification_report(y_test,y_pred))"
   ]
  },
  {
   "cell_type": "code",
   "execution_count": 12,
   "metadata": {},
   "outputs": [
    {
     "name": "stderr",
     "output_type": "stream",
     "text": [
      "/Users/macos/anaconda3/lib/python3.11/site-packages/sklearn/neural_network/_multilayer_perceptron.py:691: ConvergenceWarning: Stochastic Optimizer: Maximum iterations (100) reached and the optimization hasn't converged yet.\n",
      "  warnings.warn(\n"
     ]
    },
    {
     "data": {
      "text/html": [
       "<style>#sk-container-id-2 {color: black;}#sk-container-id-2 pre{padding: 0;}#sk-container-id-2 div.sk-toggleable {background-color: white;}#sk-container-id-2 label.sk-toggleable__label {cursor: pointer;display: block;width: 100%;margin-bottom: 0;padding: 0.3em;box-sizing: border-box;text-align: center;}#sk-container-id-2 label.sk-toggleable__label-arrow:before {content: \"▸\";float: left;margin-right: 0.25em;color: #696969;}#sk-container-id-2 label.sk-toggleable__label-arrow:hover:before {color: black;}#sk-container-id-2 div.sk-estimator:hover label.sk-toggleable__label-arrow:before {color: black;}#sk-container-id-2 div.sk-toggleable__content {max-height: 0;max-width: 0;overflow: hidden;text-align: left;background-color: #f0f8ff;}#sk-container-id-2 div.sk-toggleable__content pre {margin: 0.2em;color: black;border-radius: 0.25em;background-color: #f0f8ff;}#sk-container-id-2 input.sk-toggleable__control:checked~div.sk-toggleable__content {max-height: 200px;max-width: 100%;overflow: auto;}#sk-container-id-2 input.sk-toggleable__control:checked~label.sk-toggleable__label-arrow:before {content: \"▾\";}#sk-container-id-2 div.sk-estimator input.sk-toggleable__control:checked~label.sk-toggleable__label {background-color: #d4ebff;}#sk-container-id-2 div.sk-label input.sk-toggleable__control:checked~label.sk-toggleable__label {background-color: #d4ebff;}#sk-container-id-2 input.sk-hidden--visually {border: 0;clip: rect(1px 1px 1px 1px);clip: rect(1px, 1px, 1px, 1px);height: 1px;margin: -1px;overflow: hidden;padding: 0;position: absolute;width: 1px;}#sk-container-id-2 div.sk-estimator {font-family: monospace;background-color: #f0f8ff;border: 1px dotted black;border-radius: 0.25em;box-sizing: border-box;margin-bottom: 0.5em;}#sk-container-id-2 div.sk-estimator:hover {background-color: #d4ebff;}#sk-container-id-2 div.sk-parallel-item::after {content: \"\";width: 100%;border-bottom: 1px solid gray;flex-grow: 1;}#sk-container-id-2 div.sk-label:hover label.sk-toggleable__label {background-color: #d4ebff;}#sk-container-id-2 div.sk-serial::before {content: \"\";position: absolute;border-left: 1px solid gray;box-sizing: border-box;top: 0;bottom: 0;left: 50%;z-index: 0;}#sk-container-id-2 div.sk-serial {display: flex;flex-direction: column;align-items: center;background-color: white;padding-right: 0.2em;padding-left: 0.2em;position: relative;}#sk-container-id-2 div.sk-item {position: relative;z-index: 1;}#sk-container-id-2 div.sk-parallel {display: flex;align-items: stretch;justify-content: center;background-color: white;position: relative;}#sk-container-id-2 div.sk-item::before, #sk-container-id-2 div.sk-parallel-item::before {content: \"\";position: absolute;border-left: 1px solid gray;box-sizing: border-box;top: 0;bottom: 0;left: 50%;z-index: -1;}#sk-container-id-2 div.sk-parallel-item {display: flex;flex-direction: column;z-index: 1;position: relative;background-color: white;}#sk-container-id-2 div.sk-parallel-item:first-child::after {align-self: flex-end;width: 50%;}#sk-container-id-2 div.sk-parallel-item:last-child::after {align-self: flex-start;width: 50%;}#sk-container-id-2 div.sk-parallel-item:only-child::after {width: 0;}#sk-container-id-2 div.sk-dashed-wrapped {border: 1px dashed gray;margin: 0 0.4em 0.5em 0.4em;box-sizing: border-box;padding-bottom: 0.4em;background-color: white;}#sk-container-id-2 div.sk-label label {font-family: monospace;font-weight: bold;display: inline-block;line-height: 1.2em;}#sk-container-id-2 div.sk-label-container {text-align: center;}#sk-container-id-2 div.sk-container {/* jupyter's `normalize.less` sets `[hidden] { display: none; }` but bootstrap.min.css set `[hidden] { display: none !important; }` so we also need the `!important` here to be able to override the default hidden behavior on the sphinx rendered scikit-learn.org. See: https://github.com/scikit-learn/scikit-learn/issues/21755 */display: inline-block !important;position: relative;}#sk-container-id-2 div.sk-text-repr-fallback {display: none;}</style><div id=\"sk-container-id-2\" class=\"sk-top-container\"><div class=\"sk-text-repr-fallback\"><pre>MLPClassifier(activation=&#x27;logistic&#x27;, batch_size=10, hidden_layer_sizes=10,\n",
       "              max_iter=100)</pre><b>In a Jupyter environment, please rerun this cell to show the HTML representation or trust the notebook. <br />On GitHub, the HTML representation is unable to render, please try loading this page with nbviewer.org.</b></div><div class=\"sk-container\" hidden><div class=\"sk-item\"><div class=\"sk-estimator sk-toggleable\"><input class=\"sk-toggleable__control sk-hidden--visually\" id=\"sk-estimator-id-2\" type=\"checkbox\" checked><label for=\"sk-estimator-id-2\" class=\"sk-toggleable__label sk-toggleable__label-arrow\">MLPClassifier</label><div class=\"sk-toggleable__content\"><pre>MLPClassifier(activation=&#x27;logistic&#x27;, batch_size=10, hidden_layer_sizes=10,\n",
       "              max_iter=100)</pre></div></div></div></div></div>"
      ],
      "text/plain": [
       "MLPClassifier(activation='logistic', batch_size=10, hidden_layer_sizes=10,\n",
       "              max_iter=100)"
      ]
     },
     "execution_count": 12,
     "metadata": {},
     "output_type": "execute_result"
    }
   ],
   "source": [
    "from sklearn.neural_network import MLPClassifier\n",
    "model = MLPClassifier(hidden_layer_sizes=(10), \n",
    "                      batch_size=10, activation='logistic',max_iter=100)\n",
    "model.fit(X_train,y_train)  # training"
   ]
  },
  {
   "cell_type": "code",
   "execution_count": 13,
   "metadata": {},
   "outputs": [
    {
     "name": "stdout",
     "output_type": "stream",
     "text": [
      "              precision    recall  f1-score   support\n",
      "\n",
      "           0       1.00      1.00      1.00        19\n",
      "           1       1.00      0.77      0.87        13\n",
      "           2       0.81      1.00      0.90        13\n",
      "\n",
      "    accuracy                           0.93        45\n",
      "   macro avg       0.94      0.92      0.92        45\n",
      "weighted avg       0.95      0.93      0.93        45\n",
      "\n"
     ]
    }
   ],
   "source": [
    "y_pred = model.predict(X_test)\n",
    "print(classification_report(y_test,y_pred))"
   ]
  },
  {
   "cell_type": "code",
   "execution_count": null,
   "metadata": {},
   "outputs": [],
   "source": [
    "\n",
    "\n",
    "\n",
    "\n",
    "\n",
    "\n"
   ]
  },
  {
   "cell_type": "code",
   "execution_count": 14,
   "metadata": {},
   "outputs": [
    {
     "name": "stderr",
     "output_type": "stream",
     "text": [
      "2023-12-30 15:04:15.164952: I tensorflow/core/platform/cpu_feature_guard.cc:182] This TensorFlow binary is optimized to use available CPU instructions in performance-critical operations.\n",
      "To enable the following instructions: AVX2 FMA, in other operations, rebuild TensorFlow with the appropriate compiler flags.\n"
     ]
    },
    {
     "name": "stdout",
     "output_type": "stream",
     "text": [
      "[[0. 1. 0.]\n",
      " [0. 0. 1.]]\n"
     ]
    }
   ],
   "source": [
    "from tensorflow.keras.utils import to_categorical\n",
    "y_train = to_categorical(y_train)\n",
    "print(y_train[:2])"
   ]
  },
  {
   "cell_type": "code",
   "execution_count": 15,
   "metadata": {},
   "outputs": [],
   "source": [
    "from tensorflow.keras import layers\n",
    "from tensorflow.keras import models\n",
    "\n",
    "model = models.Sequential()\n",
    "model.add(layers.Dense(16, activation='relu'))\n",
    "model.add(layers.Dense(32, activation='relu'))\n",
    "model.add(layers.Dense(3,activation='softmax'))\n",
    "model.compile(loss='categorical_crossentropy', optimizer='adam', \n",
    "              metrics=['accuracy'])"
   ]
  },
  {
   "cell_type": "code",
   "execution_count": 16,
   "metadata": {},
   "outputs": [
    {
     "name": "stdout",
     "output_type": "stream",
     "text": [
      "Epoch 1/100\n",
      "11/11 - 1s - loss: 1.0798 - accuracy: 0.2981 - 705ms/epoch - 64ms/step\n",
      "Epoch 2/100\n",
      "11/11 - 0s - loss: 0.8795 - accuracy: 0.7308 - 14ms/epoch - 1ms/step\n",
      "Epoch 3/100\n",
      "11/11 - 0s - loss: 0.7894 - accuracy: 0.9038 - 15ms/epoch - 1ms/step\n",
      "Epoch 4/100\n",
      "11/11 - 0s - loss: 0.7320 - accuracy: 0.7212 - 15ms/epoch - 1ms/step\n",
      "Epoch 5/100\n",
      "11/11 - 0s - loss: 0.6878 - accuracy: 0.6635 - 15ms/epoch - 1ms/step\n",
      "Epoch 6/100\n",
      "11/11 - 0s - loss: 0.6492 - accuracy: 0.7788 - 14ms/epoch - 1ms/step\n",
      "Epoch 7/100\n",
      "11/11 - 0s - loss: 0.6127 - accuracy: 0.9038 - 14ms/epoch - 1ms/step\n",
      "Epoch 8/100\n",
      "11/11 - 0s - loss: 0.5835 - accuracy: 0.8269 - 15ms/epoch - 1ms/step\n",
      "Epoch 9/100\n",
      "11/11 - 0s - loss: 0.5601 - accuracy: 0.9135 - 14ms/epoch - 1ms/step\n",
      "Epoch 10/100\n",
      "11/11 - 0s - loss: 0.5280 - accuracy: 0.8942 - 14ms/epoch - 1ms/step\n",
      "Epoch 11/100\n",
      "11/11 - 0s - loss: 0.5037 - accuracy: 0.8365 - 13ms/epoch - 1ms/step\n",
      "Epoch 12/100\n",
      "11/11 - 0s - loss: 0.4806 - accuracy: 0.9519 - 15ms/epoch - 1ms/step\n",
      "Epoch 13/100\n",
      "11/11 - 0s - loss: 0.4676 - accuracy: 0.9615 - 15ms/epoch - 1ms/step\n",
      "Epoch 14/100\n",
      "11/11 - 0s - loss: 0.4462 - accuracy: 0.9327 - 14ms/epoch - 1ms/step\n",
      "Epoch 15/100\n",
      "11/11 - 0s - loss: 0.4220 - accuracy: 0.9327 - 14ms/epoch - 1ms/step\n",
      "Epoch 16/100\n",
      "11/11 - 0s - loss: 0.4110 - accuracy: 0.9519 - 14ms/epoch - 1ms/step\n",
      "Epoch 17/100\n",
      "11/11 - 0s - loss: 0.3933 - accuracy: 0.9038 - 15ms/epoch - 1ms/step\n",
      "Epoch 18/100\n",
      "11/11 - 0s - loss: 0.3737 - accuracy: 0.9615 - 14ms/epoch - 1ms/step\n",
      "Epoch 19/100\n",
      "11/11 - 0s - loss: 0.3559 - accuracy: 0.9712 - 14ms/epoch - 1ms/step\n",
      "Epoch 20/100\n",
      "11/11 - 0s - loss: 0.3386 - accuracy: 0.9712 - 14ms/epoch - 1ms/step\n",
      "Epoch 21/100\n",
      "11/11 - 0s - loss: 0.3304 - accuracy: 0.9615 - 14ms/epoch - 1ms/step\n",
      "Epoch 22/100\n",
      "11/11 - 0s - loss: 0.3143 - accuracy: 0.9423 - 15ms/epoch - 1ms/step\n",
      "Epoch 23/100\n",
      "11/11 - 0s - loss: 0.2970 - accuracy: 0.9712 - 14ms/epoch - 1ms/step\n",
      "Epoch 24/100\n",
      "11/11 - 0s - loss: 0.2901 - accuracy: 0.9615 - 14ms/epoch - 1ms/step\n",
      "Epoch 25/100\n",
      "11/11 - 0s - loss: 0.2739 - accuracy: 0.9808 - 15ms/epoch - 1ms/step\n",
      "Epoch 26/100\n",
      "11/11 - 0s - loss: 0.2549 - accuracy: 0.9712 - 15ms/epoch - 1ms/step\n",
      "Epoch 27/100\n",
      "11/11 - 0s - loss: 0.2439 - accuracy: 0.9615 - 14ms/epoch - 1ms/step\n",
      "Epoch 28/100\n",
      "11/11 - 0s - loss: 0.2361 - accuracy: 0.9712 - 14ms/epoch - 1ms/step\n",
      "Epoch 29/100\n",
      "11/11 - 0s - loss: 0.2228 - accuracy: 0.9712 - 14ms/epoch - 1ms/step\n",
      "Epoch 30/100\n",
      "11/11 - 0s - loss: 0.2134 - accuracy: 0.9712 - 14ms/epoch - 1ms/step\n",
      "Epoch 31/100\n",
      "11/11 - 0s - loss: 0.2125 - accuracy: 0.9712 - 14ms/epoch - 1ms/step\n",
      "Epoch 32/100\n",
      "11/11 - 0s - loss: 0.1992 - accuracy: 0.9615 - 15ms/epoch - 1ms/step\n",
      "Epoch 33/100\n",
      "11/11 - 0s - loss: 0.1894 - accuracy: 0.9712 - 14ms/epoch - 1ms/step\n",
      "Epoch 34/100\n",
      "11/11 - 0s - loss: 0.1821 - accuracy: 0.9712 - 14ms/epoch - 1ms/step\n",
      "Epoch 35/100\n",
      "11/11 - 0s - loss: 0.1742 - accuracy: 0.9712 - 14ms/epoch - 1ms/step\n",
      "Epoch 36/100\n",
      "11/11 - 0s - loss: 0.1714 - accuracy: 0.9808 - 14ms/epoch - 1ms/step\n",
      "Epoch 37/100\n",
      "11/11 - 0s - loss: 0.1662 - accuracy: 0.9712 - 15ms/epoch - 1ms/step\n",
      "Epoch 38/100\n",
      "11/11 - 0s - loss: 0.1626 - accuracy: 0.9808 - 14ms/epoch - 1ms/step\n",
      "Epoch 39/100\n",
      "11/11 - 0s - loss: 0.1576 - accuracy: 0.9712 - 15ms/epoch - 1ms/step\n",
      "Epoch 40/100\n",
      "11/11 - 0s - loss: 0.1571 - accuracy: 0.9808 - 14ms/epoch - 1ms/step\n",
      "Epoch 41/100\n",
      "11/11 - 0s - loss: 0.1407 - accuracy: 0.9808 - 14ms/epoch - 1ms/step\n",
      "Epoch 42/100\n",
      "11/11 - 0s - loss: 0.1486 - accuracy: 0.9423 - 14ms/epoch - 1ms/step\n",
      "Epoch 43/100\n",
      "11/11 - 0s - loss: 0.1419 - accuracy: 0.9808 - 14ms/epoch - 1ms/step\n",
      "Epoch 44/100\n",
      "11/11 - 0s - loss: 0.1409 - accuracy: 0.9519 - 15ms/epoch - 1ms/step\n",
      "Epoch 45/100\n",
      "11/11 - 0s - loss: 0.1270 - accuracy: 0.9712 - 15ms/epoch - 1ms/step\n",
      "Epoch 46/100\n",
      "11/11 - 0s - loss: 0.1305 - accuracy: 0.9808 - 15ms/epoch - 1ms/step\n",
      "Epoch 47/100\n",
      "11/11 - 0s - loss: 0.1234 - accuracy: 0.9712 - 14ms/epoch - 1ms/step\n",
      "Epoch 48/100\n",
      "11/11 - 0s - loss: 0.1214 - accuracy: 0.9712 - 18ms/epoch - 2ms/step\n",
      "Epoch 49/100\n",
      "11/11 - 0s - loss: 0.1220 - accuracy: 0.9615 - 15ms/epoch - 1ms/step\n",
      "Epoch 50/100\n",
      "11/11 - 0s - loss: 0.1262 - accuracy: 0.9808 - 15ms/epoch - 1ms/step\n",
      "Epoch 51/100\n",
      "11/11 - 0s - loss: 0.1103 - accuracy: 0.9712 - 14ms/epoch - 1ms/step\n",
      "Epoch 52/100\n",
      "11/11 - 0s - loss: 0.1180 - accuracy: 0.9615 - 15ms/epoch - 1ms/step\n",
      "Epoch 53/100\n",
      "11/11 - 0s - loss: 0.1087 - accuracy: 0.9808 - 14ms/epoch - 1ms/step\n",
      "Epoch 54/100\n",
      "11/11 - 0s - loss: 0.1096 - accuracy: 0.9808 - 15ms/epoch - 1ms/step\n",
      "Epoch 55/100\n",
      "11/11 - 0s - loss: 0.1059 - accuracy: 0.9615 - 14ms/epoch - 1ms/step\n",
      "Epoch 56/100\n",
      "11/11 - 0s - loss: 0.1128 - accuracy: 0.9712 - 14ms/epoch - 1ms/step\n",
      "Epoch 57/100\n",
      "11/11 - 0s - loss: 0.1048 - accuracy: 0.9615 - 14ms/epoch - 1ms/step\n",
      "Epoch 58/100\n",
      "11/11 - 0s - loss: 0.1107 - accuracy: 0.9712 - 15ms/epoch - 1ms/step\n",
      "Epoch 59/100\n",
      "11/11 - 0s - loss: 0.0956 - accuracy: 0.9712 - 14ms/epoch - 1ms/step\n",
      "Epoch 60/100\n",
      "11/11 - 0s - loss: 0.1014 - accuracy: 0.9615 - 14ms/epoch - 1ms/step\n",
      "Epoch 61/100\n",
      "11/11 - 0s - loss: 0.0960 - accuracy: 0.9808 - 14ms/epoch - 1ms/step\n",
      "Epoch 62/100\n",
      "11/11 - 0s - loss: 0.0945 - accuracy: 0.9808 - 15ms/epoch - 1ms/step\n",
      "Epoch 63/100\n",
      "11/11 - 0s - loss: 0.0938 - accuracy: 0.9712 - 14ms/epoch - 1ms/step\n",
      "Epoch 64/100\n",
      "11/11 - 0s - loss: 0.0932 - accuracy: 0.9808 - 15ms/epoch - 1ms/step\n",
      "Epoch 65/100\n",
      "11/11 - 0s - loss: 0.0911 - accuracy: 0.9712 - 14ms/epoch - 1ms/step\n",
      "Epoch 66/100\n",
      "11/11 - 0s - loss: 0.0891 - accuracy: 0.9712 - 14ms/epoch - 1ms/step\n",
      "Epoch 67/100\n",
      "11/11 - 0s - loss: 0.0899 - accuracy: 0.9808 - 15ms/epoch - 1ms/step\n",
      "Epoch 68/100\n",
      "11/11 - 0s - loss: 0.0924 - accuracy: 0.9615 - 14ms/epoch - 1ms/step\n",
      "Epoch 69/100\n",
      "11/11 - 0s - loss: 0.0858 - accuracy: 0.9808 - 14ms/epoch - 1ms/step\n",
      "Epoch 70/100\n",
      "11/11 - 0s - loss: 0.0872 - accuracy: 0.9808 - 14ms/epoch - 1ms/step\n",
      "Epoch 71/100\n",
      "11/11 - 0s - loss: 0.0894 - accuracy: 0.9615 - 15ms/epoch - 1ms/step\n",
      "Epoch 72/100\n",
      "11/11 - 0s - loss: 0.0831 - accuracy: 0.9712 - 15ms/epoch - 1ms/step\n",
      "Epoch 73/100\n",
      "11/11 - 0s - loss: 0.0849 - accuracy: 0.9808 - 14ms/epoch - 1ms/step\n",
      "Epoch 74/100\n",
      "11/11 - 0s - loss: 0.0818 - accuracy: 0.9808 - 15ms/epoch - 1ms/step\n",
      "Epoch 75/100\n",
      "11/11 - 0s - loss: 0.0835 - accuracy: 0.9808 - 15ms/epoch - 1ms/step\n",
      "Epoch 76/100\n",
      "11/11 - 0s - loss: 0.0791 - accuracy: 0.9808 - 14ms/epoch - 1ms/step\n",
      "Epoch 77/100\n",
      "11/11 - 0s - loss: 0.0783 - accuracy: 0.9712 - 14ms/epoch - 1ms/step\n",
      "Epoch 78/100\n",
      "11/11 - 0s - loss: 0.0783 - accuracy: 0.9808 - 15ms/epoch - 1ms/step\n",
      "Epoch 79/100\n",
      "11/11 - 0s - loss: 0.0772 - accuracy: 0.9712 - 15ms/epoch - 1ms/step\n",
      "Epoch 80/100\n",
      "11/11 - 0s - loss: 0.0881 - accuracy: 0.9808 - 14ms/epoch - 1ms/step\n",
      "Epoch 81/100\n",
      "11/11 - 0s - loss: 0.0879 - accuracy: 0.9615 - 14ms/epoch - 1ms/step\n",
      "Epoch 82/100\n",
      "11/11 - 0s - loss: 0.0768 - accuracy: 0.9808 - 15ms/epoch - 1ms/step\n",
      "Epoch 83/100\n",
      "11/11 - 0s - loss: 0.0822 - accuracy: 0.9712 - 15ms/epoch - 1ms/step\n",
      "Epoch 84/100\n",
      "11/11 - 0s - loss: 0.0746 - accuracy: 0.9808 - 15ms/epoch - 1ms/step\n",
      "Epoch 85/100\n",
      "11/11 - 0s - loss: 0.0737 - accuracy: 0.9808 - 15ms/epoch - 1ms/step\n",
      "Epoch 86/100\n",
      "11/11 - 0s - loss: 0.0770 - accuracy: 0.9615 - 15ms/epoch - 1ms/step\n",
      "Epoch 87/100\n",
      "11/11 - 0s - loss: 0.0732 - accuracy: 0.9808 - 15ms/epoch - 1ms/step\n",
      "Epoch 88/100\n",
      "11/11 - 0s - loss: 0.0711 - accuracy: 0.9712 - 15ms/epoch - 1ms/step\n",
      "Epoch 89/100\n",
      "11/11 - 0s - loss: 0.0732 - accuracy: 0.9712 - 15ms/epoch - 1ms/step\n",
      "Epoch 90/100\n",
      "11/11 - 0s - loss: 0.0686 - accuracy: 0.9808 - 15ms/epoch - 1ms/step\n",
      "Epoch 91/100\n",
      "11/11 - 0s - loss: 0.0700 - accuracy: 0.9808 - 15ms/epoch - 1ms/step\n",
      "Epoch 92/100\n",
      "11/11 - 0s - loss: 0.0735 - accuracy: 0.9712 - 15ms/epoch - 1ms/step\n",
      "Epoch 93/100\n",
      "11/11 - 0s - loss: 0.0664 - accuracy: 0.9808 - 15ms/epoch - 1ms/step\n",
      "Epoch 94/100\n",
      "11/11 - 0s - loss: 0.0742 - accuracy: 0.9808 - 15ms/epoch - 1ms/step\n",
      "Epoch 95/100\n",
      "11/11 - 0s - loss: 0.0657 - accuracy: 0.9808 - 15ms/epoch - 1ms/step\n",
      "Epoch 96/100\n",
      "11/11 - 0s - loss: 0.0671 - accuracy: 0.9808 - 15ms/epoch - 1ms/step\n",
      "Epoch 97/100\n",
      "11/11 - 0s - loss: 0.0651 - accuracy: 0.9808 - 15ms/epoch - 1ms/step\n",
      "Epoch 98/100\n",
      "11/11 - 0s - loss: 0.0658 - accuracy: 0.9808 - 15ms/epoch - 1ms/step\n",
      "Epoch 99/100\n",
      "11/11 - 0s - loss: 0.0649 - accuracy: 0.9808 - 15ms/epoch - 1ms/step\n",
      "Epoch 100/100\n",
      "11/11 - 0s - loss: 0.0645 - accuracy: 0.9808 - 15ms/epoch - 1ms/step\n"
     ]
    },
    {
     "data": {
      "text/plain": [
       "<keras.src.callbacks.History at 0x1923d71d0>"
      ]
     },
     "execution_count": 16,
     "metadata": {},
     "output_type": "execute_result"
    }
   ],
   "source": [
    "model.fit(X_train,y_train,epochs=100, batch_size=10, verbose=2)"
   ]
  },
  {
   "cell_type": "code",
   "execution_count": 17,
   "metadata": {},
   "outputs": [
    {
     "name": "stdout",
     "output_type": "stream",
     "text": [
      "Model: \"sequential\"\n",
      "_________________________________________________________________\n",
      " Layer (type)                Output Shape              Param #   \n",
      "=================================================================\n",
      " dense (Dense)               (None, 16)                80        \n",
      "                                                                 \n",
      " dense_1 (Dense)             (None, 32)                544       \n",
      "                                                                 \n",
      " dense_2 (Dense)             (None, 3)                 99        \n",
      "                                                                 \n",
      "=================================================================\n",
      "Total params: 723 (2.82 KB)\n",
      "Trainable params: 723 (2.82 KB)\n",
      "Non-trainable params: 0 (0.00 Byte)\n",
      "_________________________________________________________________\n"
     ]
    }
   ],
   "source": [
    "model.summary()"
   ]
  },
  {
   "cell_type": "code",
   "execution_count": 18,
   "metadata": {},
   "outputs": [
    {
     "name": "stdout",
     "output_type": "stream",
     "text": [
      "2/2 [==============================] - 0s 2ms/step\n",
      "[[8.3393027e-04 9.9684018e-01 2.3257991e-03]\n",
      " [9.9977446e-01 2.2546190e-04 1.8226350e-09]]\n"
     ]
    }
   ],
   "source": [
    "y_pred = model.predict(X_test)\n",
    "print(y_pred[:2])"
   ]
  },
  {
   "cell_type": "code",
   "execution_count": 19,
   "metadata": {},
   "outputs": [
    {
     "name": "stdout",
     "output_type": "stream",
     "text": [
      "[1 0 2 1 1 0 1 2 1 2 2 0 0 0 0 1 2 1 1 2 0 2 0 2 2 2 2 2 0 0 0 0 1 0 0 2 1\n",
      " 0 0 0 2 1 1 0 0]\n",
      "[1 0 2 1 1 0 1 2 1 1 2 0 0 0 0 1 2 1 1 2 0 2 0 2 2 2 2 2 0 0 0 0 1 0 0 2 1\n",
      " 0 0 0 2 1 1 0 0]\n"
     ]
    }
   ],
   "source": [
    "y_pred = y_pred.argmax(axis=1)\n",
    "print(y_pred)\n",
    "print(y_test)"
   ]
  },
  {
   "cell_type": "code",
   "execution_count": 20,
   "metadata": {},
   "outputs": [
    {
     "name": "stdout",
     "output_type": "stream",
     "text": [
      "              precision    recall  f1-score   support\n",
      "\n",
      "           0       1.00      1.00      1.00        19\n",
      "           1       1.00      0.92      0.96        13\n",
      "           2       0.93      1.00      0.96        13\n",
      "\n",
      "    accuracy                           0.98        45\n",
      "   macro avg       0.98      0.97      0.97        45\n",
      "weighted avg       0.98      0.98      0.98        45\n",
      "\n"
     ]
    }
   ],
   "source": [
    "from sklearn.metrics import classification_report\n",
    "print(classification_report(y_test,y_pred))"
   ]
  },
  {
   "cell_type": "code",
   "execution_count": null,
   "metadata": {},
   "outputs": [],
   "source": []
  }
 ],
 "metadata": {
  "kernelspec": {
   "display_name": "Python 3 (ipykernel)",
   "language": "python",
   "name": "python3"
  },
  "language_info": {
   "codemirror_mode": {
    "name": "ipython",
    "version": 3
   },
   "file_extension": ".py",
   "mimetype": "text/x-python",
   "name": "python",
   "nbconvert_exporter": "python",
   "pygments_lexer": "ipython3",
   "version": "3.11.4"
  }
 },
 "nbformat": 4,
 "nbformat_minor": 4
}
