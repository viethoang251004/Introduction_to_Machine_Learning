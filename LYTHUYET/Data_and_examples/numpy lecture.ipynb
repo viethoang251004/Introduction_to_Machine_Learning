{
 "cells": [
  {
   "cell_type": "markdown",
   "metadata": {},
   "source": [
    "NumPy is a Python library used for working with arrays.\n",
    "\n",
    "It also has functions for working in domain of linear algebra, fourier transform, and matrices.\n",
    "\n",
    "NumPy was created in 2005 by Travis Oliphant. It is an open source project and you can use it freely.\n",
    "\n",
    "NumPy stands for Numerical Python."
   ]
  },
  {
   "cell_type": "code",
   "execution_count": 1,
   "metadata": {},
   "outputs": [
    {
     "name": "stdout",
     "output_type": "stream",
     "text": [
      "Requirement already satisfied: numpy in /Users/macos/anaconda3/lib/python3.11/site-packages (1.24.3)\r\n"
     ]
    }
   ],
   "source": [
    "# cài đặt numpy nếu chưa cài\n",
    "!pip install numpy"
   ]
  },
  {
   "cell_type": "code",
   "execution_count": 1,
   "metadata": {},
   "outputs": [
    {
     "name": "stdout",
     "output_type": "stream",
     "text": [
      "1.24.3\n"
     ]
    }
   ],
   "source": [
    "import numpy as np #nhập thư viện numpy\n",
    "#(là thư viện cốt lõi cho tính toán khoa học trong Python. \n",
    "#Nó cung cấp một đối tượng mảng đa chiều hiệu suất cao và các công cụ để làm việc với các mảng này.)\n",
    "print(np.__version__)"
   ]
  },
  {
   "cell_type": "code",
   "execution_count": 3,
   "metadata": {},
   "outputs": [
    {
     "name": "stdout",
     "output_type": "stream",
     "text": [
      "(2, 3)\n",
      "(2, 2, 3)\n"
     ]
    }
   ],
   "source": [
    "sv11 = np.array([1,20,60])\n",
    "sv12 = np.array([0,20,51])\n",
    "g1 = np.array([sv11,sv12])\n",
    "print(g1.shape)\n",
    "\n",
    "sv21 = np.array([1,22,62])\n",
    "sv22 = np.array([1,21,41])\n",
    "g2 = np.array([sv21,sv22])\n",
    "#print(g2)\n",
    "class1 = np.array([g1,g2])\n",
    "print(class1.shape)\n"
   ]
  },
  {
   "cell_type": "markdown",
   "metadata": {},
   "source": [
    "Mục lục:\n",
    "1. Tạo mảng (Creating Array)\n",
    "2. Kích thước khuôn và ép khuôn (Shape and reshape)\n",
    "3. Chỉ số phần tử trong mảng (Array Indexing)\n",
    "4. Tách mảng con (Array Slicing) \n",
    "5. Lọc giá trị mảng bằng điều kiện (Array extraction by Condition)\n",
    "6. Tính toán trên ma trận (Operations on matrices)"
   ]
  },
  {
   "cell_type": "code",
   "execution_count": 27,
   "metadata": {},
   "outputs": [
    {
     "name": "stdout",
     "output_type": "stream",
     "text": [
      "one dim:\n",
      " [1 3 5 7]\n",
      "[1, 3, 5, 7]\n",
      "two dim:\n",
      " [[1 3 5]\n",
      " [2 4 6]]\n",
      "three dim:\n",
      " [[[ 1  3  5]\n",
      "  [ 2  4  6]]\n",
      "\n",
      " [[10 30 50]\n",
      "  [20 40 60]]]\n"
     ]
    }
   ],
   "source": [
    "import numpy as np\n",
    "# 1. creating array\n",
    "# one dimension\n",
    "arr = np.array([1,3,5,7])\n",
    "print('one dim:\\n',arr)\n",
    "print(list(arr))\n",
    "\n",
    "# two dimensions \n",
    "arr = np.array([[1,3,5],\n",
    "                [2,4,6]])\n",
    "print('two dim:\\n',arr)\n",
    "# three dimensions: it means array of 2-dim arrays \n",
    "arr = np.array( [ [[1,3,5],[2,4,6]],\n",
    "                     [[10,30,50],[20,40,60]] \n",
    "                    ]   )\n",
    "print('three dim:\\n',arr)"
   ]
  },
  {
   "cell_type": "code",
   "execution_count": 2,
   "metadata": {},
   "outputs": [
    {
     "name": "stdout",
     "output_type": "stream",
     "text": [
      "[1, 2, 3]\n",
      "[1 2 3]\n"
     ]
    }
   ],
   "source": [
    "# convert from list to numpy array \n",
    "a = [1,2,3]\n",
    "print(a) \n",
    "arr = np.array(a)\n",
    "print(arr)"
   ]
  },
  {
   "cell_type": "code",
   "execution_count": 28,
   "metadata": {},
   "outputs": [
    {
     "name": "stdout",
     "output_type": "stream",
     "text": [
      "[0 1 2 3 4 5 6 7 8 9]\n",
      "[2 3 4 5 6 7 8 9]\n",
      "[1 3 5 7 9]\n"
     ]
    }
   ],
   "source": [
    "a = np.arange(10)\n",
    "print(a)\n",
    "a = np.arange(2,10)\n",
    "print(a)\n",
    "a = np.arange(1,10,2)\n",
    "print(a)"
   ]
  },
  {
   "cell_type": "code",
   "execution_count": 6,
   "metadata": {},
   "outputs": [
    {
     "name": "stdout",
     "output_type": "stream",
     "text": [
      "[[0.49675629 0.43146639 0.40483577]\n",
      " [0.65816908 0.00705391 0.31175067]]\n",
      "[[0 3 6 2 2]\n",
      " [4 6 2 0 1]]\n",
      "[8.65254103 1.87867737 2.1299832  9.29403109 6.6955231  6.29211355\n",
      " 2.8830415  7.90248754 0.85293237 0.19527812 4.1428854  0.32865173\n",
      " 8.86440119 8.80161757 1.04519193]\n"
     ]
    }
   ],
   "source": [
    "a = np.random.rand(2,3)\n",
    "print(a)\n",
    "b = np.random.randint(10,size=(2,5))\n",
    "print(b)\n",
    "c = np.random.rand(15)*10\n",
    "print(c)"
   ]
  },
  {
   "cell_type": "code",
   "execution_count": 5,
   "metadata": {},
   "outputs": [
    {
     "name": "stdout",
     "output_type": "stream",
     "text": [
      "[[15.07946486 15.67831987 17.71269394 18.87205238]\n",
      " [18.76242653 18.188998   16.56933234 17.3705945 ]\n",
      " [15.16395154 18.34488284 18.4266401  16.08555746]]\n"
     ]
    }
   ],
   "source": [
    "a = np.random.rand(3,4)*4+15\n",
    "print(a)"
   ]
  },
  {
   "cell_type": "code",
   "execution_count": 32,
   "metadata": {},
   "outputs": [
    {
     "name": "stdout",
     "output_type": "stream",
     "text": [
      "[[11.63324833 14.48775248 11.1564548  12.34960846 10.36153908]\n",
      " [12.13418025 14.12976981 13.51996878 12.75224087 12.45365399]\n",
      " [14.73516442 11.51626749 14.29061949 10.75285391 14.74969936]]\n"
     ]
    }
   ],
   "source": [
    "a = np.random.rand(3,5)*5 + 10\n",
    "print(a)"
   ]
  },
  {
   "cell_type": "code",
   "execution_count": 26,
   "metadata": {},
   "outputs": [
    {
     "name": "stdout",
     "output_type": "stream",
     "text": [
      "a=\n",
      " [[2 8 1 8 0 6 6]\n",
      " [5 7 7 8 3 9 7]\n",
      " [1 8 4 0 6 8 9]]\n",
      "b=\n",
      " [[3 9 7]\n",
      " [6 8 9]]\n"
     ]
    }
   ],
   "source": [
    "#a = np.random.randint(10,size=(3, 7))\n",
    "print('a=\\n',a)\n",
    "b = a[ -2: , -3: ]\n",
    "print('b=\\n',b)\n"
   ]
  },
  {
   "cell_type": "code",
   "execution_count": 26,
   "metadata": {},
   "outputs": [
    {
     "name": "stdout",
     "output_type": "stream",
     "text": [
      "[1.64493154 1.71099901 1.77661091 1.61648711 1.71602741 1.63597428\n",
      " 1.55273893 1.59439735 1.58169938 1.77529432]\n",
      "[49.66882705 52.21070824 53.88558486 49.92341285 52.21964484 50.22873667\n",
      " 49.41271127 48.31051031 49.91776578 55.4801528 ]\n"
     ]
    }
   ],
   "source": [
    "#a = np.random.rand(2,3)*10+10\n",
    "height = np.random.rand(10)*0.3+1.5\n",
    "print(height)\n",
    "weight = height*30\n",
    "eps = np.random.rand(10)*3\n",
    "weight = weight+eps\n",
    "print(weight)\n",
    "x = 1.61\n",
    "y = ?"
   ]
  },
  {
   "cell_type": "code",
   "execution_count": 34,
   "metadata": {},
   "outputs": [
    {
     "name": "stdout",
     "output_type": "stream",
     "text": [
      "[[4.5 4.5 4.5]\n",
      " [4.5 4.5 4.5]]\n",
      "[2 2 2 2 2]\n",
      "[[0.01888834 0.23105233 0.73590319]\n",
      " [0.42249653 0.63996952 0.17457706]]\n",
      "[0.12513783 0.33886594 0.15180212]\n",
      "[[[0.83701196 0.64058348 0.55261312 0.73110596]\n",
      "  [0.52162478 0.13127607 0.61851923 0.4318031 ]]\n",
      "\n",
      " [[0.75709295 0.26777998 0.98420076 0.91613044]\n",
      "  [0.65189709 0.33628074 0.8807207  0.43254357]]\n",
      "\n",
      " [[0.92162656 0.79654823 0.38310808 0.37098824]\n",
      "  [0.8303153  0.01445566 0.53472576 0.37626156]]]\n",
      "[0 9 6 3 8]\n",
      "[[1 8 9 2 5]\n",
      " [7 3 4 5 8]]\n"
     ]
    }
   ],
   "source": [
    "# - array with the same value\n",
    "a = np.full((2,3),4.5)\n",
    "print(a)\n",
    "a = np.full((5),2)\n",
    "print(a)\n",
    "# create array by multiple \n",
    "a = np.array([2]*5)\n",
    "print(a)\n",
    "\n",
    "# random values\n",
    "\n",
    "#Create an array of the given shape and populate it with random samples from a uniform distribution over [0, 1).\n",
    "a = np.random.rand(2,3) # array (2,3) with values in [0,1]\n",
    "print(a) \n",
    "a = np.random.rand(3) \n",
    "print(a) \n",
    "a = np.random.rand(3,2,4) \n",
    "print(a) \n",
    "# randint for values of integers \n",
    "a = np.random.randint(10,size=5) # values in [0,10]\n",
    "print(a)\n",
    "a = np.random.randint(10,size=(2,5))\n",
    "print(a)"
   ]
  },
  {
   "cell_type": "code",
   "execution_count": 67,
   "metadata": {},
   "outputs": [
    {
     "name": "stdout",
     "output_type": "stream",
     "text": [
      "[[8 3 6 7 8 8]\n",
      " [1 3 0 2 6 8]\n",
      " [0 2 7 3 0 7]\n",
      " [0 8 6 6 7 1]]\n",
      "X= [[8 3 6 7 8]\n",
      " [1 3 0 2 6]\n",
      " [0 2 7 3 0]\n",
      " [0 8 6 6 7]]\n",
      "y= [8 8 7 1]\n"
     ]
    }
   ],
   "source": [
    "#a = np.random.randint(10,size=(4,6))\n",
    "print(a)\n",
    "X=a[:,:-1]\n",
    "y=a[:,-1]\n",
    "print('X=',X)\n",
    "print('y=',y)\n",
    "#print(b)"
   ]
  },
  {
   "cell_type": "code",
   "execution_count": 8,
   "metadata": {},
   "outputs": [
    {
     "name": "stdout",
     "output_type": "stream",
     "text": [
      "[3 0 6 9 1 4 2 4 1 2 1 8 3 6 2 4 9 5 2 8 5 0 2 2]\n",
      "(4, 6)\n",
      "[[3 0 6 9 1 4]\n",
      " [2 4 1 2 1 8]\n",
      " [3 6 2 4 9 5]\n",
      " [2 8 5 0 2 2]]\n",
      "(2, 3, 4)\n",
      "[[[3 0 6 9]\n",
      "  [1 4 2 4]\n",
      "  [1 2 1 8]]\n",
      "\n",
      " [[3 6 2 4]\n",
      "  [9 5 2 8]\n",
      "  [5 0 2 2]]]\n"
     ]
    }
   ],
   "source": [
    "a=np.random.randint(10,size=24)\n",
    "print(a)\n",
    "b = a.reshape(4,-1)\n",
    "print(b.shape)\n",
    "print(b)\n",
    "c = b.reshape(2,3,-1)\n",
    "print(c.shape)\n",
    "print(c)\n"
   ]
  },
  {
   "cell_type": "code",
   "execution_count": 24,
   "metadata": {},
   "outputs": [
    {
     "name": "stdout",
     "output_type": "stream",
     "text": [
      "[[2 7 6 9]\n",
      " [4 1 5 7]\n",
      " [0 6 0 6]]\n",
      "[[5 7]\n",
      " [0 6]]\n"
     ]
    }
   ],
   "source": [
    "#a = np.random.randint(10,size=(12))\n",
    "a = a.reshape(3,4)\n",
    "print(a)\n",
    "b = a[-2:,-2:]\n",
    "print(b)\n",
    "#print(a.shape)\n"
   ]
  },
  {
   "cell_type": "code",
   "execution_count": 28,
   "metadata": {},
   "outputs": [
    {
     "name": "stdout",
     "output_type": "stream",
     "text": [
      "[13 12 11 18 12  5  2  3 12  0  8  8  8 10 19  8 14 10 18 10]\n",
      "[[13 12 11 18 12]\n",
      " [ 5  2  3 12  0]\n",
      " [ 8  8  8 10 19]\n",
      " [ 8 14 10 18 10]]\n"
     ]
    }
   ],
   "source": [
    "a = np.random.randint(20,size=20)\n",
    "print(a)\n",
    "a = a.reshape(4,-1)\n",
    "print(a)\n",
    "#b = a[1:3,1:4]\n",
    "#print('b=',b)\n",
    "\n"
   ]
  },
  {
   "cell_type": "code",
   "execution_count": 37,
   "metadata": {},
   "outputs": [
    {
     "name": "stdout",
     "output_type": "stream",
     "text": [
      "[[ 1  6  6  4]\n",
      " [ 2  4  3  3]\n",
      " [ 3  6  4  6]\n",
      " [ 4  3  6  9]\n",
      " [ 5  7  4  7]\n",
      " [ 6  9  7  8]\n",
      " [ 7  8  5  4]\n",
      " [ 8  5  4  4]\n",
      " [ 9  5  5  8]\n",
      " [10  8  4  3]\n",
      " [11  7  4  7]\n",
      " [12  4  3  7]\n",
      " [13  8  6  7]\n",
      " [14  3  9  6]\n",
      " [15  5  5  8]\n",
      " [16  7  4  7]\n",
      " [17  8  5  4]\n",
      " [18  3  9  6]\n",
      " [19  4  5  9]\n",
      " [20  5  4  6]\n",
      " [21  4  3  6]\n",
      " [22  8  6  7]\n",
      " [23  5  8  6]\n",
      " [24  5  7  7]\n",
      " [25  3  6  4]\n",
      " [26  9  6  8]\n",
      " [27  4  4  3]\n",
      " [28  6  9  6]\n",
      " [29  6  8  4]\n",
      " [30  8  7  9]]\n"
     ]
    }
   ],
   "source": [
    "a = np.arange(1,31)\n",
    "a = a.reshape(30,-1)\n",
    "#print(a)\n",
    "#b = np.random.randint(3,10,size=(30,3))\n",
    "#print(b)\n",
    "c = np.concatenate((a,b),axis=-1)\n",
    "\n",
    "print(c)"
   ]
  },
  {
   "cell_type": "code",
   "execution_count": 122,
   "metadata": {},
   "outputs": [
    {
     "name": "stdout",
     "output_type": "stream",
     "text": [
      "10\n",
      "[13, 20, 13, 13, 11]\n",
      "[13 20 13 13 11]\n"
     ]
    }
   ],
   "source": [
    "import random \n",
    "n = random.randint(10,20)\n",
    "print(n)\n",
    "a = [random.randint(10,20) for i in range(5) ]\n",
    "print(a)\n",
    "b = np.array(a)\n",
    "print(b) "
   ]
  },
  {
   "cell_type": "code",
   "execution_count": 121,
   "metadata": {},
   "outputs": [
    {
     "name": "stdout",
     "output_type": "stream",
     "text": [
      "(3, 4)\n",
      "3 4\n",
      "[[1 3 5 7 2 4]\n",
      " [6 8 1 1 1 1]]\n",
      "[[1 3 5 7 2 4]\n",
      " [6 8 1 1 1 1]]\n",
      "[[1 3 5 7 2 4]\n",
      " [6 8 1 1 1 1]]\n",
      "[1 3 5 7 2 4 6 8 1 1 1 1]\n",
      "[[1 3 5 7 2 4]\n",
      " [6 8 1 1 1 1]]\n",
      "[[1 3]\n",
      " [5 7]\n",
      " [2 4]\n",
      " [6 8]\n",
      " [1 1]\n",
      " [1 1]]\n"
     ]
    }
   ],
   "source": [
    "# 2. shape and reshape \n",
    "a = np.array([[1,3,5,7],\n",
    "                [2,4,6,8],[1,1,1,1]])\n",
    "print(a.shape)\n",
    "print(a.shape[0],a.shape[1])\n",
    "# reshape to (m,n)\n",
    "print(np.reshape(a,(2,6)))\n",
    "print(a.reshape(2,6))\n",
    "print(a.reshape(2,-1))\n",
    "\n",
    "# reshape to one line\n",
    "print(a.ravel())\n",
    "print(a.reshape(-1,6))\n",
    "print(a.reshape(6,-1))"
   ]
  },
  {
   "cell_type": "code",
   "execution_count": 50,
   "metadata": {},
   "outputs": [
    {
     "name": "stdout",
     "output_type": "stream",
     "text": [
      "1 3 5 7 \n",
      "shape = (2, 3)\n",
      "[[1 3 5]\n",
      " [2 4 6]]\n",
      "1\n",
      "3\n",
      "5\n",
      "2\n",
      "4\n",
      "6\n"
     ]
    }
   ],
   "source": [
    "# 2,3. array indexing and slicing \n",
    "# how to get/extract values by indexs in arrays\n",
    "a = np.array([1,3,5,7])\n",
    "for i in range(len(a)):\n",
    "    print(a[i], end=' ')\n",
    "b = np.array([[1,3,5],[2,4,6]])\n",
    "print('\\n\\rshape =',b.shape)\n",
    "print(b)\n",
    "for i in range(b.shape[0]):\n",
    "    for j in range(b.shape[1]):\n",
    "        print(b[i][j])"
   ]
  },
  {
   "cell_type": "code",
   "execution_count": 55,
   "metadata": {},
   "outputs": [
    {
     "name": "stdout",
     "output_type": "stream",
     "text": [
      "[1 2 3]\n",
      "[2 3]\n",
      "9\n",
      "[4 5 6 7 8]\n",
      "[1 2 3 4 5 6 7 8]\n"
     ]
    }
   ],
   "source": [
    "# how to get sub-array by indexs\n",
    "a = np.array([1,2,3,4,5,6,7,8,9])\n",
    "print(a[:3])\n",
    "print(a[1:3])\n",
    "print(a[-1])\n",
    "print(a[3:-1])\n",
    "print(a[:-1])\n"
   ]
  },
  {
   "cell_type": "code",
   "execution_count": 61,
   "metadata": {},
   "outputs": [
    {
     "name": "stdout",
     "output_type": "stream",
     "text": [
      "[[1 3 5]\n",
      " [2 4 6]]\n",
      "[[3 5]\n",
      " [4 6]]\n",
      "[[1 3]\n",
      " [2 4]]\n",
      "[[1 3 5]\n",
      " [2 4 6]]\n"
     ]
    }
   ],
   "source": [
    "# how to get sub-array of 2-dim arrays by indexs\n",
    "a = np.array([[1,3,5],[2,4,6]])\n",
    "print(a)\n",
    "print(a[0:2,1:3])\n",
    "print(a[:,:-1])\n",
    "print(a[:,:])"
   ]
  },
  {
   "cell_type": "code",
   "execution_count": 71,
   "metadata": {},
   "outputs": [
    {
     "name": "stdout",
     "output_type": "stream",
     "text": [
      "[0 1 2 3 4 5 6 7 8 9]\n",
      "[1 3 5 7 9]\n"
     ]
    }
   ],
   "source": [
    "#4. Array extraction by Condition\n",
    "a = np.array([i for i in range(10)])\n",
    "print(a)\n",
    "# get odd values\n",
    "b = a[a%2==1]\n",
    "print(b)\n"
   ]
  },
  {
   "cell_type": "code",
   "execution_count": 75,
   "metadata": {},
   "outputs": [
    {
     "name": "stdout",
     "output_type": "stream",
     "text": [
      "<U6\n",
      "int64\n"
     ]
    }
   ],
   "source": [
    "# 5. Data type\n",
    "arr = np.array(['apple', 'banana', 'cherry'])\n",
    "print(arr.dtype)\n",
    "arr = np.array([1, 2, 3, 4])\n",
    "print(arr.dtype)"
   ]
  },
  {
   "cell_type": "code",
   "execution_count": 87,
   "metadata": {},
   "outputs": [
    {
     "name": "stdout",
     "output_type": "stream",
     "text": [
      "[[1 2 3]\n",
      " [2 3 4]]\n",
      "[[1 1 1]\n",
      " [2 2 2]]\n"
     ]
    }
   ],
   "source": [
    "# 6. Operation on darray\n",
    "a = np.array([[1,2,3],[2,3,4]])\n",
    "b = np.array([[1,1,1],[2,2,2]])\n",
    "print(a)\n",
    "print(b)"
   ]
  },
  {
   "cell_type": "code",
   "execution_count": 95,
   "metadata": {},
   "outputs": [
    {
     "name": "stdout",
     "output_type": "stream",
     "text": [
      "[[2 3 4]\n",
      " [4 5 6]]\n",
      "add [[2 3 4]\n",
      " [4 5 6]]\n",
      "[[0 1 2]\n",
      " [0 1 2]]\n",
      "sub [[0 1 2]\n",
      " [0 1 2]]\n",
      "[[1 2 3]\n",
      " [4 6 8]]\n",
      "multiply [[1 2 3]\n",
      " [4 6 8]]\n",
      "[[1.  2.  3. ]\n",
      " [1.  1.5 2. ]]\n",
      "divide [[1.  2.  3. ]\n",
      " [1.  1.5 2. ]]\n"
     ]
    }
   ],
   "source": [
    "print(a+b)\n",
    "print('add',np.add(a,b))\n",
    "print(a-b)\n",
    "print('sub',np.subtract(a,b))\n",
    "print(a*b)\n",
    "print('multiply',np.multiply(a,b))\n",
    "print(a/b)\n",
    "print('divide',np.divide(a,b))"
   ]
  },
  {
   "cell_type": "code",
   "execution_count": 98,
   "metadata": {},
   "outputs": [
    {
     "name": "stdout",
     "output_type": "stream",
     "text": [
      "[[1 2 3]\n",
      " [2 3 4]]\n",
      "[[1 2]\n",
      " [1 2]\n",
      " [1 2]]\n",
      "[[ 6 12]\n",
      " [ 9 18]]\n",
      "[[1.         1.41421356 1.73205081]\n",
      " [1.41421356 1.73205081 2.        ]]\n"
     ]
    }
   ],
   "source": [
    "print(a)\n",
    "print(b.T) # Transpose of a matrix (ma trận chuyển vị))\n",
    "print(np.dot(a,b.T))\n",
    "print(np.sqrt(a))"
   ]
  },
  {
   "cell_type": "code",
   "execution_count": 108,
   "metadata": {},
   "outputs": [
    {
     "name": "stdout",
     "output_type": "stream",
     "text": [
      "[[1 2 3]\n",
      " [2 3 4]]\n",
      "[[1 1 1]\n",
      " [2 2 2]]\n",
      "[3 5 7]\n",
      "[6 9]\n",
      "concat:\n",
      "[[1 2 3]\n",
      " [2 3 4]\n",
      " [1 1 1]\n",
      " [2 2 2]]\n",
      "[[1 2 3 1 1 1]\n",
      " [2 3 4 2 2 2]]\n"
     ]
    }
   ],
   "source": [
    "# operation by axis of array\n",
    "print(a)\n",
    "print(b)\n",
    "# operation on by axis\n",
    "print(a.sum(axis=0))\n",
    "print(a.sum(axis=1))\n",
    "# combine a and b: numpy.concatenate \n",
    "print('concat:')\n",
    "print(np.concatenate((a,b),axis=0))\n",
    "print(np.concatenate((a,b),axis=1))"
   ]
  },
  {
   "cell_type": "code",
   "execution_count": 12,
   "metadata": {},
   "outputs": [
    {
     "name": "stdout",
     "output_type": "stream",
     "text": [
      "[15.36750823 18.57091901 13.19524339 18.58356437 12.61921644]\n",
      "[14 13 14 10 18]\n",
      "[[14.         13.         14.         10.         18.        ]\n",
      " [15.36750823 18.57091901 13.19524339 18.58356437 12.61921644]]\n",
      "[[14.         10.        ]\n",
      " [13.19524339 18.58356437]]\n"
     ]
    }
   ],
   "source": [
    "#1) Tạo ma trận kích thước 2x7\n",
    "# dòng 1 là các số nguyên random từ 10->20\n",
    "# dòng 2 là các số thực từ 10 ->20\n",
    "#2) lấy/trích ma trận con từ cột thứ 2 đến cột 4 và in ra màn hình\n",
    "N = 5\n",
    "a = np.random.rand(N)*10+10\n",
    "print(a)\n",
    "b = np.random.randint(10,20, size=(N))\n",
    "print(b)\n",
    "c = np.array([b,a])\n",
    "print(c)\n",
    "d = c[:,2:4]\n",
    "print(d)"
   ]
  },
  {
   "cell_type": "code",
   "execution_count": 69,
   "metadata": {},
   "outputs": [
    {
     "name": "stdout",
     "output_type": "stream",
     "text": [
      "[2 4 3]\n"
     ]
    }
   ],
   "source": [
    "a = np.array([1,2,3])\n",
    "b = np.array([2,2,1])\n",
    "c = a*b\n",
    "print(c)"
   ]
  }
 ],
 "metadata": {
  "kernelspec": {
   "display_name": "Python 3 (ipykernel)",
   "language": "python",
   "name": "python3"
  },
  "language_info": {
   "codemirror_mode": {
    "name": "ipython",
    "version": 3
   },
   "file_extension": ".py",
   "mimetype": "text/x-python",
   "name": "python",
   "nbconvert_exporter": "python",
   "pygments_lexer": "ipython3",
   "version": "3.11.4"
  }
 },
 "nbformat": 4,
 "nbformat_minor": 4
}
