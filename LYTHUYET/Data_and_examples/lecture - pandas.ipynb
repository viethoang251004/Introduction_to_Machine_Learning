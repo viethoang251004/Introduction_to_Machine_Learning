{
 "cells": [
  {
   "cell_type": "markdown",
   "metadata": {},
   "source": [
    "What is Pandas ?\n",
    "pandas is a fast, powerful, flexible and easy to use open source data analysis and manipulation tool,\n",
    "built on top of the Python programming language."
   ]
  },
  {
   "cell_type": "code",
   "execution_count": 1,
   "metadata": {},
   "outputs": [
    {
     "name": "stdout",
     "output_type": "stream",
     "text": [
      "1.4.4\n"
     ]
    }
   ],
   "source": [
    "import pandas as pd\n",
    "print(pd.__version__)"
   ]
  },
  {
   "cell_type": "markdown",
   "metadata": {},
   "source": [
    "1. Read data (Đọc dữ liệu từ file, hiểu cấu trúc của dataframe)\n",
    "2. Exact data (Trích xuất dữ liệu, trích chọn dữ liệu)\n",
    "3. Draw graph (Vẽ đồ thị dữ liệu)\n",
    "4. Transform data type (Chuyển đổi dữ liệu, xử lý dữ liệu)"
   ]
  },
  {
   "cell_type": "code",
   "execution_count": 1,
   "metadata": {},
   "outputs": [
    {
     "data": {
      "text/html": [
       "<div>\n",
       "<style scoped>\n",
       "    .dataframe tbody tr th:only-of-type {\n",
       "        vertical-align: middle;\n",
       "    }\n",
       "\n",
       "    .dataframe tbody tr th {\n",
       "        vertical-align: top;\n",
       "    }\n",
       "\n",
       "    .dataframe thead th {\n",
       "        text-align: right;\n",
       "    }\n",
       "</style>\n",
       "<table border=\"1\" class=\"dataframe\">\n",
       "  <thead>\n",
       "    <tr style=\"text-align: right;\">\n",
       "      <th></th>\n",
       "      <th>age</th>\n",
       "      <th>job</th>\n",
       "      <th>marital</th>\n",
       "      <th>education</th>\n",
       "      <th>default</th>\n",
       "      <th>balance</th>\n",
       "      <th>housing</th>\n",
       "      <th>loan</th>\n",
       "      <th>contact</th>\n",
       "      <th>day</th>\n",
       "      <th>month</th>\n",
       "      <th>duration</th>\n",
       "      <th>campaign</th>\n",
       "      <th>pdays</th>\n",
       "      <th>previous</th>\n",
       "      <th>poutcome</th>\n",
       "      <th>deposit</th>\n",
       "    </tr>\n",
       "  </thead>\n",
       "  <tbody>\n",
       "    <tr>\n",
       "      <th>0</th>\n",
       "      <td>59.0</td>\n",
       "      <td>admin.</td>\n",
       "      <td>married</td>\n",
       "      <td>secondary</td>\n",
       "      <td>no</td>\n",
       "      <td>2343</td>\n",
       "      <td>yes</td>\n",
       "      <td>no</td>\n",
       "      <td>unknown</td>\n",
       "      <td>5</td>\n",
       "      <td>may</td>\n",
       "      <td>1042</td>\n",
       "      <td>1</td>\n",
       "      <td>-1</td>\n",
       "      <td>0</td>\n",
       "      <td>unknown</td>\n",
       "      <td>yes</td>\n",
       "    </tr>\n",
       "    <tr>\n",
       "      <th>1</th>\n",
       "      <td>56.0</td>\n",
       "      <td>admin.</td>\n",
       "      <td>married</td>\n",
       "      <td>secondary</td>\n",
       "      <td>no</td>\n",
       "      <td>45</td>\n",
       "      <td>no</td>\n",
       "      <td>no</td>\n",
       "      <td>unknown</td>\n",
       "      <td>5</td>\n",
       "      <td>may</td>\n",
       "      <td>1467</td>\n",
       "      <td>1</td>\n",
       "      <td>-1</td>\n",
       "      <td>0</td>\n",
       "      <td>unknown</td>\n",
       "      <td>yes</td>\n",
       "    </tr>\n",
       "    <tr>\n",
       "      <th>2</th>\n",
       "      <td>41.0</td>\n",
       "      <td>technician</td>\n",
       "      <td>married</td>\n",
       "      <td>secondary</td>\n",
       "      <td>no</td>\n",
       "      <td>1270</td>\n",
       "      <td>yes</td>\n",
       "      <td>no</td>\n",
       "      <td>unknown</td>\n",
       "      <td>5</td>\n",
       "      <td>may</td>\n",
       "      <td>1389</td>\n",
       "      <td>1</td>\n",
       "      <td>-1</td>\n",
       "      <td>0</td>\n",
       "      <td>unknown</td>\n",
       "      <td>yes</td>\n",
       "    </tr>\n",
       "    <tr>\n",
       "      <th>3</th>\n",
       "      <td>55.0</td>\n",
       "      <td>services</td>\n",
       "      <td>married</td>\n",
       "      <td>secondary</td>\n",
       "      <td>no</td>\n",
       "      <td>2476</td>\n",
       "      <td>yes</td>\n",
       "      <td>no</td>\n",
       "      <td>unknown</td>\n",
       "      <td>5</td>\n",
       "      <td>may</td>\n",
       "      <td>579</td>\n",
       "      <td>1</td>\n",
       "      <td>-1</td>\n",
       "      <td>0</td>\n",
       "      <td>unknown</td>\n",
       "      <td>yes</td>\n",
       "    </tr>\n",
       "    <tr>\n",
       "      <th>4</th>\n",
       "      <td>54.0</td>\n",
       "      <td>admin.</td>\n",
       "      <td>married</td>\n",
       "      <td>tertiary</td>\n",
       "      <td>no</td>\n",
       "      <td>184</td>\n",
       "      <td>no</td>\n",
       "      <td>no</td>\n",
       "      <td>unknown</td>\n",
       "      <td>5</td>\n",
       "      <td>may</td>\n",
       "      <td>673</td>\n",
       "      <td>2</td>\n",
       "      <td>-1</td>\n",
       "      <td>0</td>\n",
       "      <td>unknown</td>\n",
       "      <td>yes</td>\n",
       "    </tr>\n",
       "  </tbody>\n",
       "</table>\n",
       "</div>"
      ],
      "text/plain": [
       "    age         job  marital  education default  balance housing loan  \\\n",
       "0  59.0      admin.  married  secondary      no     2343     yes   no   \n",
       "1  56.0      admin.  married  secondary      no       45      no   no   \n",
       "2  41.0  technician  married  secondary      no     1270     yes   no   \n",
       "3  55.0    services  married  secondary      no     2476     yes   no   \n",
       "4  54.0      admin.  married   tertiary      no      184      no   no   \n",
       "\n",
       "   contact  day month  duration  campaign  pdays  previous poutcome deposit  \n",
       "0  unknown    5   may      1042         1     -1         0  unknown     yes  \n",
       "1  unknown    5   may      1467         1     -1         0  unknown     yes  \n",
       "2  unknown    5   may      1389         1     -1         0  unknown     yes  \n",
       "3  unknown    5   may       579         1     -1         0  unknown     yes  \n",
       "4  unknown    5   may       673         2     -1         0  unknown     yes  "
      ]
     },
     "execution_count": 1,
     "metadata": {},
     "output_type": "execute_result"
    }
   ],
   "source": [
    "import pandas as pd\n",
    "# 1. Đọc dữ liệu từ file  \n",
    "df = pd.read_csv('bank.csv')\n",
    "df.head(5)"
   ]
  },
  {
   "cell_type": "code",
   "execution_count": 2,
   "metadata": {},
   "outputs": [
    {
     "name": "stdout",
     "output_type": "stream",
     "text": [
      "(11162, 17)\n"
     ]
    },
    {
     "data": {
      "text/plain": [
       "age          12\n",
       "job           0\n",
       "marital       0\n",
       "education     0\n",
       "default       0\n",
       "balance       0\n",
       "housing       0\n",
       "loan          0\n",
       "contact       0\n",
       "day           0\n",
       "month         0\n",
       "duration      0\n",
       "campaign      0\n",
       "pdays         0\n",
       "previous      0\n",
       "poutcome      0\n",
       "deposit       0\n",
       "dtype: int64"
      ]
     },
     "execution_count": 2,
     "metadata": {},
     "output_type": "execute_result"
    }
   ],
   "source": [
    "#2. check data is null\n",
    "print(df.shape)\n",
    "df.isna().sum()"
   ]
  },
  {
   "cell_type": "code",
   "execution_count": 3,
   "metadata": {},
   "outputs": [
    {
     "name": "stdout",
     "output_type": "stream",
     "text": [
      "age          0\n",
      "job          0\n",
      "marital      0\n",
      "education    0\n",
      "default      0\n",
      "balance      0\n",
      "housing      0\n",
      "loan         0\n",
      "contact      0\n",
      "day          0\n",
      "month        0\n",
      "duration     0\n",
      "campaign     0\n",
      "pdays        0\n",
      "previous     0\n",
      "poutcome     0\n",
      "deposit      0\n",
      "dtype: int64\n",
      "(11150, 17)\n"
     ]
    }
   ],
   "source": [
    "# delete na rows\n",
    "print(df.shape)\n",
    "df.isna().sum()\n",
    "\n",
    "df = df.dropna()\n",
    "print(df.isna().sum())\n",
    "print(df.shape)"
   ]
  },
  {
   "cell_type": "code",
   "execution_count": 4,
   "metadata": {},
   "outputs": [
    {
     "name": "stdout",
     "output_type": "stream",
     "text": [
      "17\n",
      "['age', 'job', 'marital', 'education', 'default', 'balance', 'housing', 'loan', 'contact', 'day', 'month', 'duration', 'campaign', 'pdays', 'previous', 'poutcome', 'deposit']\n",
      "age          float64\n",
      "job           object\n",
      "marital       object\n",
      "education     object\n",
      "default       object\n",
      "balance        int64\n",
      "housing       object\n",
      "loan          object\n",
      "contact       object\n",
      "day            int64\n",
      "month         object\n",
      "duration       int64\n",
      "campaign       int64\n",
      "pdays          int64\n",
      "previous       int64\n",
      "poutcome      object\n",
      "deposit       object\n",
      "dtype: object\n"
     ]
    }
   ],
   "source": [
    "# tên cột\n",
    "names = df.columns.values.tolist()\n",
    "print(len(names))\n",
    "print(names)\n",
    "types = df.dtypes\n",
    "print(types)\n"
   ]
  },
  {
   "cell_type": "code",
   "execution_count": 5,
   "metadata": {},
   "outputs": [
    {
     "name": "stdout",
     "output_type": "stream",
     "text": [
      "41.0\n",
      "11150\n",
      "[59.0, 56.0, 41.0, 55.0, 54.0, 42.0, 56.0, 60.0, 37.0, 28.0]\n",
      "    age         job\n",
      "1  56.0      admin.\n",
      "2  41.0  technician\n",
      "3  55.0    services\n",
      "        age         job\n",
      "0      59.0      admin.\n",
      "1      56.0      admin.\n",
      "3      55.0    services\n",
      "4      54.0      admin.\n",
      "6      56.0  management\n",
      "...     ...         ...\n",
      "11140  55.0    services\n",
      "11142  52.0      admin.\n",
      "11144  60.0     retired\n",
      "11145  60.0     retired\n",
      "11154  52.0  technician\n",
      "\n",
      "[2471 rows x 2 columns]\n"
     ]
    }
   ],
   "source": [
    "#lấy thông tin theo cột\n",
    "\n",
    "# lấy 1 ô \n",
    "# val = df['col_name'].values[0]\n",
    "x = df['age'][2]\n",
    "print(x)\n",
    "# lấy cả cột\n",
    "col = list(df['age'])\n",
    "print(len(col))\n",
    "print(col[:10])\n",
    "# lấy nhiều cột theo khoảng\n",
    "cols = df.loc[1:3,['age','job']]\n",
    "print(cols)\n",
    "# lấy nhiều cột theo điều kiện\n",
    "cols = df.loc[df['age']>50,['age','job']]\n",
    "print(cols)"
   ]
  },
  {
   "cell_type": "code",
   "execution_count": 6,
   "metadata": {},
   "outputs": [
    {
     "name": "stdout",
     "output_type": "stream",
     "text": [
      "[59.0, 'admin.', 'married', 'secondary', 'no', 2343, 'yes', 'no', 'unknown', 5, 'may', 1042, 1, -1, 0, 'unknown', 'yes']\n",
      "['age', 'job', 'marital', 'education', 'default', 'balance', 'housing', 'loan', 'contact', 'day', 'month', 'duration', 'campaign', 'pdays', 'previous', 'poutcome', 'deposit']\n"
     ]
    }
   ],
   "source": [
    "# lấy cả dòng \n",
    "# loc gets rows (or columns) with particular labels from the index.\n",
    "# iloc gets rows (or columns) at particular positions in the index (so it only takes integers).\n",
    "row = list(df.iloc[0])\n",
    "print(row)\n",
    "rows = list(df.iloc[0:2])\n",
    "print(rows)"
   ]
  },
  {
   "cell_type": "code",
   "execution_count": 7,
   "metadata": {},
   "outputs": [
    {
     "name": "stdout",
     "output_type": "stream",
     "text": [
      "(11150, 17)\n",
      "[59.0 'admin.' 'married' 'secondary' 'no' 2343 'yes' 'no' 'unknown' 5\n",
      " 'may' 1042 1 -1 0 'unknown' 'yes']\n"
     ]
    }
   ],
   "source": [
    "# lấy toàn bộ dữ liệu\n",
    "# chuyển về dạng numpy \n",
    "data = df.values\n",
    "print(data.shape)\n",
    "print(data[0])"
   ]
  },
  {
   "cell_type": "code",
   "execution_count": 8,
   "metadata": {},
   "outputs": [
    {
     "name": "stdout",
     "output_type": "stream",
     "text": [
      "(204, 17)\n",
      "                  48           192           198        246         260\n",
      "age              53.0         53.0          53.0       53.0        53.0\n",
      "job        technician  blue-collar  entrepreneur  housemaid  technician\n",
      "marital      divorced     divorced        single    married     married\n",
      "education     primary      primary     secondary    primary   secondary\n",
      "default            no           no            no         no          no\n",
      "balance          1443         2656            62        104         480\n",
      "housing           yes          yes           yes         no          no\n",
      "loan               no           no            no        yes          no\n",
      "contact       unknown      unknown       unknown    unknown     unknown\n",
      "day                14           30            30          5           6\n",
      "month             may          may           may        jun         jun\n",
      "duration          476         1980          1044        701         648\n",
      "campaign            1            2             5          1           2\n",
      "pdays              -1           -1            -1         -1          -1\n",
      "previous            0            0             0          0           0\n",
      "poutcome      unknown      unknown       unknown    unknown     unknown\n",
      "deposit           yes          yes           yes        yes         yes\n"
     ]
    }
   ],
   "source": [
    "# lấy dữ liệu theo điều kiện \n",
    "d = df.loc[df['age']==53]\n",
    "print(d.shape)\n",
    "print(d.head().T)"
   ]
  },
  {
   "cell_type": "code",
   "execution_count": 9,
   "metadata": {},
   "outputs": [
    {
     "name": "stdout",
     "output_type": "stream",
     "text": [
      "married     6347\n",
      "single      3513\n",
      "divorced    1290\n",
      "Name: marital, dtype: int64\n"
     ]
    },
    {
     "data": {
      "text/plain": [
       "<AxesSubplot:>"
      ]
     },
     "execution_count": 9,
     "metadata": {},
     "output_type": "execute_result"
    },
    {
     "data": {
      "image/png": "[encoded data removed]",
      "text/plain": [
       "<Figure size 640x480 with 1 Axes>"
      ]
     },
     "metadata": {},
     "output_type": "display_data"
    }
   ],
   "source": [
    "#3. vẽ\n",
    "# - đếm frequency trước khi vẽ \n",
    "f = df['marital'].value_counts()\n",
    "print(f)\n",
    "f.plot.bar()"
   ]
  },
  {
   "cell_type": "code",
   "execution_count": 10,
   "metadata": {},
   "outputs": [
    {
     "name": "stdout",
     "output_type": "stream",
     "text": [
      "no     5873\n",
      "yes    5277\n",
      "Name: deposit, dtype: int64\n"
     ]
    },
    {
     "data": {
      "text/plain": [
       "<AxesSubplot:>"
      ]
     },
     "execution_count": 10,
     "metadata": {},
     "output_type": "execute_result"
    },
    {
     "data": {
      "image/png": "[encoded data removed]",
      "text/plain": [
       "<Figure size 640x480 with 1 Axes>"
      ]
     },
     "metadata": {},
     "output_type": "display_data"
    }
   ],
   "source": [
    "f = df['deposit'].value_counts()\n",
    "print(f)\n",
    "f.plot.bar()"
   ]
  },
  {
   "cell_type": "code",
   "execution_count": 33,
   "metadata": {},
   "outputs": [
    {
     "name": "stdout",
     "output_type": "stream",
     "text": [
      "secondary    5470\n",
      "tertiary     3684\n",
      "primary      1499\n",
      "unknown       497\n",
      "Name: education, dtype: int64\n"
     ]
    },
    {
     "data": {
      "text/plain": [
       "<AxesSubplot:>"
      ]
     },
     "execution_count": 33,
     "metadata": {},
     "output_type": "execute_result"
    },
    {
     "data": {
      "image/png": "[encoded data removed]",
      "text/plain": [
       "<Figure size 640x480 with 1 Axes>"
      ]
     },
     "metadata": {},
     "output_type": "display_data"
    }
   ],
   "source": [
    "f = df['education'].value_counts()\n",
    "print(f)\n",
    "f.plot.bar()"
   ]
  },
  {
   "cell_type": "code",
   "execution_count": 34,
   "metadata": {},
   "outputs": [
    {
     "data": {
      "text/plain": [
       "<AxesSubplot:xlabel='education', ylabel='job'>"
      ]
     },
     "execution_count": 34,
     "metadata": {},
     "output_type": "execute_result"
    },
    {
     "data": {
      "image/png": "[encoded data removed]",
      "text/plain": [
       "<Figure size 640x480 with 1 Axes>"
      ]
     },
     "metadata": {},
     "output_type": "display_data"
    }
   ],
   "source": [
    "# quan hệ giữa các attribute\n",
    "df.plot.scatter(x='education',y='job')"
   ]
  },
  {
   "cell_type": "code",
   "execution_count": 25,
   "metadata": {},
   "outputs": [
    {
     "data": {
      "text/plain": [
       "<AxesSubplot:xlabel='species'>"
      ]
     },
     "execution_count": 25,
     "metadata": {},
     "output_type": "execute_result"
    },
    {
     "data": {
      "image/png": "[encoded data removed]",
      "text/plain": [
       "<Figure size 640x480 with 1 Axes>"
      ]
     },
     "metadata": {},
     "output_type": "display_data"
    }
   ],
   "source": [
    "# 3. vẽ đồ thị \n",
    "# trục hoành là 1 cột, trục tung là các cột giá trị số còn lại  \n",
    "df1 = pd.DataFrame({'species': ['bear', 'bear', 'marsupial'],\n",
    "                  'population': [18, 22, 80],\n",
    "                    'abc': ['a', 'b', 'c'],\n",
    "                   'test':[2,4,5]},\n",
    "                  index=['panda', 'polar', 'koala'])\n",
    "#print(df1)\n",
    "df1.plot.bar(x='species', rot=0)"
   ]
  },
  {
   "cell_type": "code",
   "execution_count": 26,
   "metadata": {},
   "outputs": [
    {
     "data": {
      "text/plain": [
       "<AxesSubplot:xlabel='species'>"
      ]
     },
     "execution_count": 26,
     "metadata": {},
     "output_type": "execute_result"
    },
    {
     "data": {
      "image/png": "[encoded data removed]",
      "text/plain": [
       "<Figure size 640x480 with 1 Axes>"
      ]
     },
     "metadata": {},
     "output_type": "display_data"
    }
   ],
   "source": [
    "# 3. vẽ đồ thị \n",
    "# - xác định 2 trục trước khi vẽ, trong đó y là trục numeric \n",
    "df1 = pd.DataFrame({'species': ['bear', 'bear', 'marsupial'],\n",
    "                  'population': [18, 22, 80],\n",
    "                    'abc': ['a', 'b', 'c'],\n",
    "                   'test':[2,4,5]},\n",
    "                  index=['panda', 'polar', 'koala'])\n",
    "#print(df1)\n",
    "df1.plot.bar(x='species',y='test')"
   ]
  },
  {
   "cell_type": "code",
   "execution_count": 36,
   "metadata": {
    "scrolled": true
   },
   "outputs": [
    {
     "data": {
      "text/plain": [
       "<AxesSubplot:>"
      ]
     },
     "execution_count": 36,
     "metadata": {},
     "output_type": "execute_result"
    },
    {
     "data": {
      "image/png": "[encoded data removed]",
      "text/plain": [
       "<Figure size 640x480 with 1 Axes>"
      ]
     },
     "metadata": {},
     "output_type": "display_data"
    }
   ],
   "source": [
    "df3 = pd.DataFrame({'learning hours': [1, 2, 5, 9],\n",
    "                  'ranking': ['d', 'c', 'b', 'a']})\n",
    "df3.plot.bar()"
   ]
  },
  {
   "cell_type": "code",
   "execution_count": 37,
   "metadata": {},
   "outputs": [
    {
     "data": {
      "text/plain": [
       "<AxesSubplot:xlabel='ranking', ylabel='learning hours'>"
      ]
     },
     "execution_count": 37,
     "metadata": {},
     "output_type": "execute_result"
    },
    {
     "data": {
      "image/png": "[encoded data removed]",
      "text/plain": [
       "<Figure size 640x480 with 1 Axes>"
      ]
     },
     "metadata": {},
     "output_type": "display_data"
    }
   ],
   "source": [
    "df3.plot.scatter(x='ranking',y='learning hours')"
   ]
  },
  {
   "cell_type": "code",
   "execution_count": 156,
   "metadata": {},
   "outputs": [
    {
     "name": "stdout",
     "output_type": "stream",
     "text": [
      "   learning hours ranking  code\n",
      "0               1       d     3\n",
      "1               8       a     0\n",
      "2               2       c     2\n",
      "3               3       b     1\n",
      "4               5       b     1\n",
      "5               9       a     0\n"
     ]
    }
   ],
   "source": [
    "# 4. Chuyển đổi dữ liệu \n",
    "from sklearn.preprocessing import LabelEncoder\n",
    "\n",
    "df3 = pd.DataFrame({'learning hours': [1, 8, 2, 3, 5, 9],\n",
    "                  'ranking': ['d', 'a','c', 'b','b', 'a']})\n",
    "LE = LabelEncoder()\n",
    "df3['code'] = LE.fit_transform(df3['ranking'])\n",
    "print(df3)\n",
    "print(df3['code'])"
   ]
  },
  {
   "cell_type": "code",
   "execution_count": 166,
   "metadata": {},
   "outputs": [
    {
     "name": "stdout",
     "output_type": "stream",
     "text": [
      "(array([0, 1, 2, 3, 3, 1]), Index(['d', 'a', 'c', 'b'], dtype='object'))\n",
      "[0 1 2 3 3 1]\n",
      "[0, 1, 2, 3, 3, 1]\n",
      "   learning hours ranking  code  code1\n",
      "0               1       d     3      0\n",
      "1               8       a     0      1\n",
      "2               2       c     2      2\n",
      "3               3       b     1      3\n",
      "4               5       b     1      3\n",
      "5               9       a     0      1\n",
      "['d', 'a', 'c', 'b']\n"
     ]
    }
   ],
   "source": [
    "a = pd.factorize(df3['ranking']) \n",
    "print(a)\n",
    "print(a[0])\n",
    "print(list(a[0]))\n",
    "df3['code1']=list(a[0])\n",
    "print(df3)\n",
    "# lấy danh sách indexing \n",
    "print(list(a[1]))"
   ]
  },
  {
   "cell_type": "code",
   "execution_count": 169,
   "metadata": {},
   "outputs": [
    {
     "name": "stdout",
     "output_type": "stream",
     "text": [
      "   a  b  c  d\n",
      "0  0  0  0  1\n",
      "1  1  0  0  0\n",
      "2  0  0  1  0\n",
      "3  0  1  0  0\n",
      "4  0  1  0  0\n",
      "5  1  0  0  0\n",
      "   learning hours ranking  code  code1  a  b  c  d\n",
      "0               1       d     3      0  0  0  0  1\n",
      "1               8       a     0      1  1  0  0  0\n",
      "2               2       c     2      2  0  0  1  0\n",
      "3               3       b     1      3  0  1  0  0\n",
      "4               5       b     1      3  0  1  0  0\n",
      "5               9       a     0      1  1  0  0  0\n"
     ]
    }
   ],
   "source": [
    "# pandas dummies \n",
    "a = pd.get_dummies(df3['ranking'])\n",
    "print(a)\n",
    "frames = [df3,a]\n",
    "result = pd.concat(frames,axis=1)\n",
    "print(result)"
   ]
  },
  {
   "cell_type": "code",
   "execution_count": null,
   "metadata": {},
   "outputs": [],
   "source": []
  }
 ],
 "metadata": {
  "kernelspec": {
   "display_name": "Python 3 (ipykernel)",
   "language": "python",
   "name": "python3"
  },
  "language_info": {
   "codemirror_mode": {
    "name": "ipython",
    "version": 3
   },
   "file_extension": ".py",
   "mimetype": "text/x-python",
   "name": "python",
   "nbconvert_exporter": "python",
   "pygments_lexer": "ipython3",
   "version": "3.11.4"
  }
 },
 "nbformat": 4,
 "nbformat_minor": 2
}
